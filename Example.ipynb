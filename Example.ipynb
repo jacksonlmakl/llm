{
 "cells": [
  {
   "cell_type": "markdown",
   "id": "940872af-6bfb-4406-96f7-70f825016fe2",
   "metadata": {},
   "source": [
    "# Initializing & Using The Agent Class\n",
    "#### Reminder: You must set the environment variable ``` HF_API_KEY ``` to your HuggingFace Personal Access Token"
   ]
  },
  {
   "cell_type": "code",
   "execution_count": null,
   "id": "9b490bef-ab50-4939-9be6-4eefacac2978",
   "metadata": {},
   "outputs": [],
   "source": [
    "from agent import Agent\n",
    "from s3 import sync_s3_to_documents\n",
    "\n",
    "sync_s3_to_documents('s3-documents-rag', aws_access_key=\"***\",aws_secret_key=\"***\")\n",
    "\n",
    "a=Agent()\n",
    "print(a.chat(\"tell me the challenge airbnb has and how they should solve it?\"),'\\n\\n')\n",
    "\n",
    "print(a.chat(\"tell me the challenge airbnb has and how they should solve it?\"),'\\n\\n')\n",
    "\n",
    "print(a.chat(\"tell me the challenge BMW has and how they should solve it?\"),'\\n\\n')\n",
    "\n",
    "print(a.chat(\"Compare and contrast the problems airbnb & BMW are facing\"),'\\n\\n')\n",
    "\n",
    "messages=a.model.messages\n",
    "print('Agent Message Chain Saved To Local Memory')\n",
    "a.model.clear()\n",
    "print('Agent Message Chain Cleared')\n",
    "print('\\n\\nAgent Messages: ' ,messages)"
   ]
  },
  {
   "cell_type": "markdown",
   "id": "382171dd",
   "metadata": {},
   "source": [
    "# Calling The API\n",
    "#### Reminder: You must set the environment variable ``` HF_API_KEY ``` to your HuggingFace Personal Access Token when running api.py"
   ]
  },
  {
   "cell_type": "code",
   "execution_count": null,
   "id": "9304d427",
   "metadata": {},
   "outputs": [],
   "source": [
    "import requests\n",
    "import json\n",
    "\n",
    "\n",
    "# API endpoint\n",
    "url = \"http://localhost:5000/s3\"\n",
    "\n",
    "# Parameters\n",
    "params = {\n",
    "    \"bucket_name\": \"s3-documents-rag\",\n",
    "    \"aws_access_key\":\"****\",\n",
    "    \"aws_secret_key\":\"****\"\n",
    "    }\n",
    "\n",
    "# Make the GET request\n",
    "response = requests.get(url, params=params)\n"
   ]
  },
  {
   "cell_type": "code",
   "execution_count": 19,
   "id": "29e107ef-8975-4e8a-bd29-3be2420275e1",
   "metadata": {},
   "outputs": [
    {
     "name": "stdout",
     "output_type": "stream",
     "text": [
      "Response:\n",
      "Role: assistant\n",
      "Content: Based on the provided information, Airbnb faces several challenges, including:\n",
      "\n",
      "1. **Bias in pricing model**: Airbnb's pricing model may not directly take into account race, with different socio-economic issues affecting pricing in various neighborhoods. This could be due to the platform's algorithm used to determine prices, which may not be transparent or fair.\n",
      "2. **Lack of transparency**: Airbnb's pricing model and other factors contributing to pricing differences between black hosts and non-black hosts may not be clearly communicated to users. This lack of transparency can lead to unfair treatment and discriminatory practices.\n",
      "3. **Unintentional bias in fraud prevention algorithm**: Airbnb's fraud prevention algorithm may unintentionally discriminate against black hosts, who may be more likely to be targeted due to their racial background. This bias can lead to unfair treatment and exclusion from the platform.\n",
      "4. **Sensitive issue with a massive historical context**: The issue of Airbnb's pricing model and other factors contributing to pricing differences between black hosts and non-black hosts is sensitive and has a massive historical context. It is essential for Airbnb to address this issue with empathy and accountability.\n",
      "\n",
      "To address these challenges, Airbnb should:\n",
      "\n",
      "1. **Investigate the pricing model**: Airbnb should investigate the pricing model used to determine prices and understand the factors contributing to pricing differences\n",
      "Conversation history cleared\n"
     ]
    }
   ],
   "source": [
    "# API endpoint\n",
    "url = \"http://localhost:5000/chat\"\n",
    "\n",
    "# Parameters\n",
    "params = {\n",
    "    \"prompt\": \"What challenges does Airbnb face?\",\n",
    "    \"rag\": True,\n",
    "    \"stream\": False\n",
    "}\n",
    "\n",
    "# Make the GET request\n",
    "response = requests.get(url, params=params)\n",
    "\n",
    "# Check if request was successful\n",
    "if response.status_code == 200:\n",
    "    # Parse and print the response\n",
    "    result = response.json()\n",
    "    print(\"Response:\")\n",
    "    print(f\"Role: {result['role']}\")\n",
    "    print(f\"Content: {result['content']}\")\n",
    "else:\n",
    "    print(f\"Error: {response.status_code}\")\n",
    "    print(response.text)\n",
    "\n",
    "# Optional: Clear conversation history\n",
    "clear_response = requests.get(\"http://localhost:5000/clear\")\n",
    "if clear_response.status_code == 200:\n",
    "    print(\"Conversation history cleared\")\n",
    "else:\n",
    "    print(f\"Error clearing conversation: {clear_response.status_code}\")"
   ]
  },
  {
   "cell_type": "code",
   "execution_count": 5,
   "id": "4b2b148b-102a-4a58-a94d-5cdd268e3ee6",
   "metadata": {},
   "outputs": [
    {
     "name": "stdout",
     "output_type": "stream",
     "text": [
      "Agent reset\n"
     ]
    }
   ],
   "source": [
    "# Optional: Reset Agent\n",
    "reset_response = requests.get(\"http://localhost:5000/reset\")\n",
    "if reset_response.status_code == 200:\n",
    "    print(\"Agent reset\")\n",
    "else:\n",
    "    print(f\"Error resetting agent: {reset_response.status_code}\")"
   ]
  }
 ],
 "metadata": {
  "kernelspec": {
   "display_name": "env",
   "language": "python",
   "name": "python3"
  },
  "language_info": {
   "codemirror_mode": {
    "name": "ipython",
    "version": 3
   },
   "file_extension": ".py",
   "mimetype": "text/x-python",
   "name": "python",
   "nbconvert_exporter": "python",
   "pygments_lexer": "ipython3",
   "version": "3.13.1"
  }
 },
 "nbformat": 4,
 "nbformat_minor": 5
}
