{
 "cells": [
  {
   "cell_type": "markdown",
   "id": "940872af-6bfb-4406-96f7-70f825016fe2",
   "metadata": {},
   "source": [
    "# Initializing & Using The Agent Class\n",
    "#### Reminder: You must set the environment variable ``` HF_API_KEY ``` to your HuggingFace Personal Access Token"
   ]
  },
  {
   "cell_type": "code",
   "execution_count": 3,
   "id": "9b490bef-ab50-4939-9be6-4eefacac2978",
   "metadata": {},
   "outputs": [
    {
     "name": "stderr",
     "output_type": "stream",
     "text": [
      "100%|██████████| 4/4 [00:00<00:00, 15448.63it/s]\n",
      "100%|██████████| 4/4 [00:00<00:00, 1091.77it/s]\n"
     ]
    },
    {
     "name": "stdout",
     "output_type": "stream",
     "text": [
      "Based on the information provided, the main challenges Airbnb faces are:\n",
      "\n",
      "1. **Racial bias in pricing**: The platform's pricing model may be unintentionally biased against certain racial groups, particularly in NYC, where there is significant racial segregation. This can lead to hosts charging less for similar properties, potentially perpetuating existing disparities.\n",
      "2. **Lack of transparency**: Airbnb's pricing model is not transparent, making it difficult for users to understand the factors that influence pricing. This lack of transparency can lead to unintentional bias and unfair treatment of certain groups.\n",
      "3. **Historical context**: The issue of racial bias in pricing is deeply rooted in the historical context of racial segregation in NYC. This can make it challenging to address the issue without acknowledging and apologizing for the past.\n",
      "\n",
      "To address these challenges, Airbnb should:\n",
      "\n",
      "1. **Investigate the pricing model**: Understand the factors that contribute to pricing differences across different neighborhoods and host types. This can help identify potential biases and areas for improvement.\n",
      "2. **Improve transparency**: Provide users with a clear understanding of how pricing is determined, including any factors that may influence pricing. This can help prevent unintentional bias and ensure fairness.\n",
      "3. **Address historical context**: Acknowledge the historical context of racial segregation in NYC and take \n",
      "\n",
      "\n"
     ]
    },
    {
     "name": "stderr",
     "output_type": "stream",
     "text": [
      "100%|██████████| 4/4 [00:00<00:00, 19599.55it/s]\n",
      "100%|██████████| 4/4 [00:00<00:00, 345.39it/s]\n"
     ]
    },
    {
     "name": "stdout",
     "output_type": "stream",
     "text": [
      "The main challenges Airbnb faces are:\n",
      "\n",
      "1. **Racial bias in pricing**: The platform's pricing model may be unintentionally biased against certain racial groups, particularly in NYC, where there is significant racial segregation. This can lead to hosts charging less for similar properties, potentially perpetuating existing disparities.\n",
      "2. **Lack of transparency**: Airbnb's pricing model is not transparent, making it difficult for users to understand the factors that influence pricing. This lack of transparency can lead to unintentional bias and unfair treatment of certain groups.\n",
      "3. **Historical context**: The issue of racial bias in pricing is deeply rooted in the historical context of racial segregation in NYC. This can make it challenging to address the issue without acknowledging and apologizing for the past.\n",
      "\n",
      "To address these challenges, Airbnb should:\n",
      "\n",
      "1. **Investigate the pricing model**: Understand the factors that contribute to pricing differences across different neighborhoods and host types. This can help identify potential biases and areas for improvement.\n",
      "2. **Improve transparency**: Provide users with a clear understanding of how pricing is determined, including any factors that may influence pricing. This can help prevent unintentional bias and ensure fairness.\n",
      "3. **Address historical context**: Acknowledge the historical context of racial segregation in NYC and take steps to acknowledge and apologize for \n",
      "\n",
      "\n"
     ]
    },
    {
     "name": "stderr",
     "output_type": "stream",
     "text": [
      "100%|██████████| 4/4 [00:00<00:00, 7887.74it/s]\n",
      "100%|██████████| 4/4 [00:00<00:00, 790.00it/s]\n"
     ]
    },
    {
     "name": "stdout",
     "output_type": "stream",
     "text": [
      "The main challenges BMW faces are:\n",
      "\n",
      "1. **Lack of transparency and understanding of the economic implications of the \"Producer Responsibility\" policy**: BMW's management struggled to understand the implications of the policy, which was introduced in 1989. This lack of understanding can lead to unintended consequences, such as inefficient dismantling and shredding processes, and potential harm to the environment.\n",
      "2. **Difficulty in implementing the policy**: The policy requires manufacturers to take back vehicles that are ready to be scrapped, which can be a complex and time-consuming process. BMW's management may not have the necessary resources or expertise to implement the policy effectively.\n",
      "\n",
      "To address these challenges, BMW should:\n",
      "\n",
      "1. **Invest in education and training**: Provide management with the necessary education and training to understand the economic implications of the \"Producer Responsibility\" policy and how to implement it effectively.\n",
      "2. **Develop a clear and efficient dismantling and shredding process**: Establish a clear process for dismantling and shredding vehicles, including the identification of suitable locations and the implementation of efficient processes.\n",
      "3. **Increase investment in sustainability initiatives**: Consider investing in sustainability initiatives that promote the responsible disposal and recycling of vehicles, such as electric vehicle charging infrastructure and recycling facilities.\n",
      "4. **Monitor and evaluate the policy's effectiveness**: Regular \n",
      "\n",
      "\n"
     ]
    },
    {
     "name": "stderr",
     "output_type": "stream",
     "text": [
      "100%|██████████| 4/4 [00:00<00:00, 28387.84it/s]\n",
      "100%|██████████| 4/4 [00:00<00:00, 1328.47it/s]\n"
     ]
    },
    {
     "name": "stdout",
     "output_type": "stream",
     "text": [
      "The problems Airbnb and BMW are facing share some similarities, but there are also some key differences.\n",
      "\n",
      "**Similarities:**\n",
      "\n",
      "1. **Lack of transparency and understanding of the economic implications of the problem**: Both Airbnb and BMW are struggling to understand the economic implications of their respective problems, which can lead to unintended consequences.\n",
      "2. **Difficulty in implementing solutions**: Both companies are facing challenges in implementing effective solutions to their problems, including lack of resources, expertise, and infrastructure.\n",
      "3. **Need for education and training**: Both companies need to provide their employees with the necessary education and training to understand the problems they are facing and how to address them.\n",
      "\n",
      "**Differences:**\n",
      "\n",
      "1. **Type of problem**: Airbnb's problem is related to racial bias in pricing, while BMW's problem is related to lack of transparency and understanding of the economic implications of their \"Producer Responsibility\" policy.\n",
      "2. **Scope of impact**: Airbnb's problem has a broader impact, affecting millions of users worldwide, while BMW's problem is primarily focused on a specific industry and region (New York City).\n",
      "3. **Level of urgency**: Airbnb's problem requires immediate attention, as the lack of transparency and understanding of the economic implications can lead to negative consequences, such as decreased user trust and revenue. BMW \n",
      "\n",
      "\n",
      "Agent Message Chain Saved To Local Memory\n",
      "Agent Message Chain Cleared\n",
      "\n",
      "\n",
      "Agent Messages:  [{'role': 'system', 'content': 'You are a helpful, smart assistant good at parsing text, language, and summarizing.'}, {'role': 'system', 'content': 'You will be given a prompt from the user, and some information that may be relevant. Answer the user prompt accuratley using relevant information.'}, {'role': 'user', 'content': \"tell me the challenge airbnb has and how they should solve it? \\n\\n---- Potentially Relevant Information From RAG: \\n\\n\\n Question/Prompt: tell me the challenge airbnb has and how they should solve it?                Here is relevant information that may help answer the question:                originated. Was this user required to verify themself with a Facebook, Google, Passport, etc. or was it optional to use the platform? - Was this an unintentional bias in their fraud prevention algorithm? o What would you recommend Chesky do at this time? - This is an issue that is sensitive, and has a massive historical context it is important not to discount their experience - He should apologize, take accountability, explain that this obviously was not AirBnb’s intention but can understand why this situation would elicit this type of reaction   Academic Research o What should Chesky consider while addressing this new attention to the issue? - Airbnb will suggest prices based on similar properties, what factors are being used to determineoriginated. Was this user required to verify themself with a Facebook, Google, Passport, etc. or was it optional to use the platform? - Was this an unintentional bias in their fraud prevention algorithm? o What would you recommend Chesky do at this time? - This is an issue that is sensitive, and has a massive historical context it is important not to discount their experience - He should apologize, take accountability, explain that this obviously was not AirBnb’s intention but can understand why this situation would elicit this type of reaction   Academic Research o What should Chesky consider while addressing this new attention to the issue? - Airbnb will suggest prices based on similar properties, what factors are being used to determineoriginated. Was this user required to verify themself with a Facebook, Google, Passport, etc. or was it optional to use the platform? - Was this an unintentional bias in their fraud prevention algorithm? o What would you recommend Chesky do at this time? - This is an issue that is sensitive, and has a massive historical context it is important not to discount their experience - He should apologize, take accountability, explain that this obviously was not AirBnb’s intention but can understand why this situation would elicit this type of reaction   Academic Research o What should Chesky consider while addressing this new attention to the issue? - Airbnb will suggest prices based on similar properties, what factors are being used to determinewhile addressing this new attention to the issue? - Airbnb will suggest prices based on similar properties, what factors are being used to determine this? - While their pricing model may not directly take into account race, in NYC especially there is a lot of defacto segregation, you have black neighborhoods, colombian neighborhoods, russian neighborhoods, italian neighborhoods etc. All with different socio economic issues. So, while it may have not been directly race related, it could be indirectly because of how deep this issue runs.  o What would you recommend Chesky do at this time? - Investigate the pricing model - Understand the other different factors that contribute to why black hosts are charging lesswhile addressing this new attention to the issue? - Airbnb will suggest prices based on similar properties, what factors are being used to determine this? - While their pricing model may not directly take into account race, in NYC especially there is a lot of defacto segregation, you have black neighborhoods, colombian neighborhoods, russian neighborhoods, italian neighborhoods etc. All with different socio economic issues. So, while it may have not been directly race related, it could be indirectly because of how deep this issue runs.  o What would you recommend Chesky do at this time? - Investigate the pricing model - Understand the other different factors that contribute to why black hosts are charging less                Sources consulted:        - airbnb.pdf                Based on the above information, here's a comprehensive answer to the original question/prompt:\"}, {'role': 'assistant', 'content': \"Based on the information provided, the main challenges Airbnb faces are:\\n\\n1. **Racial bias in pricing**: The platform's pricing model may be unintentionally biased against certain racial groups, particularly in NYC, where there is significant racial segregation. This can lead to hosts charging less for similar properties, potentially perpetuating existing disparities.\\n2. **Lack of transparency**: Airbnb's pricing model is not transparent, making it difficult for users to understand the factors that influence pricing. This lack of transparency can lead to unintentional bias and unfair treatment of certain groups.\\n3. **Historical context**: The issue of racial bias in pricing is deeply rooted in the historical context of racial segregation in NYC. This can make it challenging to address the issue without acknowledging and apologizing for the past.\\n\\nTo address these challenges, Airbnb should:\\n\\n1. **Investigate the pricing model**: Understand the factors that contribute to pricing differences across different neighborhoods and host types. This can help identify potential biases and areas for improvement.\\n2. **Improve transparency**: Provide users with a clear understanding of how pricing is determined, including any factors that may influence pricing. This can help prevent unintentional bias and ensure fairness.\\n3. **Address historical context**: Acknowledge the historical context of racial segregation in NYC and take\"}, {'role': 'user', 'content': \"tell me the challenge airbnb has and how they should solve it? \\n\\n---- Potentially Relevant Information From RAG: \\n\\n\\n Question/Prompt: tell me the challenge airbnb has and how they should solve it?                Here is relevant information that may help answer the question:                originated. Was this user required to verify themself with a Facebook, Google, Passport, etc. or was it optional to use the platform? - Was this an unintentional bias in their fraud prevention algorithm? o What would you recommend Chesky do at this time? - This is an issue that is sensitive, and has a massive historical context it is important not to discount their experience - He should apologize, take accountability, explain that this obviously was not AirBnb’s intention but can understand why this situation would elicit this type of reaction   Academic Research o What should Chesky consider while addressing this new attention to the issue? - Airbnb will suggest prices based on similar properties, what factors are being used to determineoriginated. Was this user required to verify themself with a Facebook, Google, Passport, etc. or was it optional to use the platform? - Was this an unintentional bias in their fraud prevention algorithm? o What would you recommend Chesky do at this time? - This is an issue that is sensitive, and has a massive historical context it is important not to discount their experience - He should apologize, take accountability, explain that this obviously was not AirBnb’s intention but can understand why this situation would elicit this type of reaction   Academic Research o What should Chesky consider while addressing this new attention to the issue? - Airbnb will suggest prices based on similar properties, what factors are being used to determineoriginated. Was this user required to verify themself with a Facebook, Google, Passport, etc. or was it optional to use the platform? - Was this an unintentional bias in their fraud prevention algorithm? o What would you recommend Chesky do at this time? - This is an issue that is sensitive, and has a massive historical context it is important not to discount their experience - He should apologize, take accountability, explain that this obviously was not AirBnb’s intention but can understand why this situation would elicit this type of reaction   Academic Research o What should Chesky consider while addressing this new attention to the issue? - Airbnb will suggest prices based on similar properties, what factors are being used to determineoriginated. Was this user required to verify themself with a Facebook, Google, Passport, etc. or was it optional to use the platform? - Was this an unintentional bias in their fraud prevention algorithm? o What would you recommend Chesky do at this time? - This is an issue that is sensitive, and has a massive historical context it is important not to discount their experience - He should apologize, take accountability, explain that this obviously was not AirBnb’s intention but can understand why this situation would elicit this type of reaction   Academic Research o What should Chesky consider while addressing this new attention to the issue? - Airbnb will suggest prices based on similar properties, what factors are being used to determinewhile addressing this new attention to the issue? - Airbnb will suggest prices based on similar properties, what factors are being used to determine this? - While their pricing model may not directly take into account race, in NYC especially there is a lot of defacto segregation, you have black neighborhoods, colombian neighborhoods, russian neighborhoods, italian neighborhoods etc. All with different socio economic issues. So, while it may have not been directly race related, it could be indirectly because of how deep this issue runs.  o What would you recommend Chesky do at this time? - Investigate the pricing model - Understand the other different factors that contribute to why black hosts are charging less                Sources consulted:        - airbnb.pdf                Based on the above information, here's a comprehensive answer to the original question/prompt:\"}, {'role': 'assistant', 'content': \"The main challenges Airbnb faces are:\\n\\n1. **Racial bias in pricing**: The platform's pricing model may be unintentionally biased against certain racial groups, particularly in NYC, where there is significant racial segregation. This can lead to hosts charging less for similar properties, potentially perpetuating existing disparities.\\n2. **Lack of transparency**: Airbnb's pricing model is not transparent, making it difficult for users to understand the factors that influence pricing. This lack of transparency can lead to unintentional bias and unfair treatment of certain groups.\\n3. **Historical context**: The issue of racial bias in pricing is deeply rooted in the historical context of racial segregation in NYC. This can make it challenging to address the issue without acknowledging and apologizing for the past.\\n\\nTo address these challenges, Airbnb should:\\n\\n1. **Investigate the pricing model**: Understand the factors that contribute to pricing differences across different neighborhoods and host types. This can help identify potential biases and areas for improvement.\\n2. **Improve transparency**: Provide users with a clear understanding of how pricing is determined, including any factors that may influence pricing. This can help prevent unintentional bias and ensure fairness.\\n3. **Address historical context**: Acknowledge the historical context of racial segregation in NYC and take steps to acknowledge and apologize for\"}, {'role': 'user', 'content': 'tell me the challenge BMW has and how they should solve it? \\n\\n---- Potentially Relevant Information From RAG: \\n\\n\\n Question/Prompt: tell me the challenge BMW has and how they should solve it?                Here is relevant information that may help answer the question:                a \"Producer Responsibility\" policy, this regulation would obligate the manufacturers of automobiles to take back vehicles that were ready to be scrapped. The auto takeback proposal was actually the first of several initiatives that would also affect the end-of-life (EOL) treatment of such other products as household appliances and consumer electronics. But in 1989, no other industry had faced anything like this new policy. Managers at BMW and other German automakers struggled to under-stand the implications for their own company. Perhaps the first exercise was to gauge the magnitude of the economic effect. Stated another way, management wanted to know what the cost o( the new policy was likely to be, if BMW continued to do business as usual. Background A loose net work of dismantlers and shredders managed most of the recycling and disposal of German vehicles, accounting for about 95 percent of EOL volume, or roughly 2.1 million vehicles per year. Dismantling was a labor-intensivea \"Producer Responsibility\" policy, this regulation would obligate the manufacturers of automobiles to take back vehicles that were ready to be scrapped. The auto takeback proposal was actually the first of several initiatives that would also affect the end-of-life (EOL) treatment of such other products as household appliances and consumer electronics. But in 1989, no other industry had faced anything like this new policy. Managers at BMW and other German automakers struggled to under-stand the implications for their own company. Perhaps the first exercise was to gauge the magnitude of the economic effect. Stated another way, management wanted to know what the cost o( the new policy was likely to be, if BMW continued to do business as usual. Background A loose net work of dismantlers and shredders managed most of the recycling and disposal of German vehicles, accounting for about 95 percent of EOL volume, or roughly 2.1 million vehicles per year. Dismantling was a labor-intensivea \"Producer Responsibility\" policy, this regulation would obligate the manufacturers of automobiles to take back vehicles that were ready to be scrapped. The auto takeback proposal was actually the first of several initiatives that would also affect the end-of-life (EOL) treatment of such other products as household appliances and consumer electronics. But in 1989, no other industry had faced anything like this new policy. Managers at BMW and other German automakers struggled to under-stand the implications for their own company. Perhaps the first exercise was to gauge the magnitude of the economic effect. Stated another way, management wanted to know what the cost o( the new policy was likely to be, if BMW continued to do business as usual. Background A loose net work of dismantlers and shredders managed most of the recycling and disposal of German vehicles, accounting for about 95 percent of EOL volume, or roughly 2.1 million vehicles per year. Dismantling was a labor-intensivea \"Producer Responsibility\" policy, this regulation would obligate the manufacturers of automobiles to take back vehicles that were ready to be scrapped. The auto takeback proposal was actually the first of several initiatives that would also affect the end-of-life (EOL) treatment of such other products as household appliances and consumer electronics. But in 1989, no other industry had faced anything like this new policy. Managers at BMW and other German automakers struggled to under-stand the implications for their own company. Perhaps the first exercise was to gauge the magnitude of the economic effect. Stated another way, management wanted to know what the cost o( the new policy was likely to be, if BMW continued to do business as usual. Background A loose net work of dismantlers and shredders managed most of the recycling and disposal of German vehicles, accounting for about 95 percent of EOL volume, or roughly 2.1 million vehicles per year. Dismantling was a labor-intensivea \"Producer Responsibility\" policy, this regulation would obligate the manufacturers of automobiles to take back vehicles that were ready to be scrapped. The auto takeback proposal was actually the first of several initiatives that would also affect the end-of-life (EOL) treatment of such other products as household appliances and consumer electronics. But in 1989, no other industry had faced anything like this new policy. Managers at BMW and other German automakers struggled to under-stand the implications for their own company. Perhaps the first exercise was to gauge the magnitude of the economic effect. Stated another way, management wanted to know what the cost o( the new policy was likely to be, if BMW continued to do business as usual. Background A loose net work of dismantlers and shredders managed most of the recycling and disposal of German vehicles, accounting for about 95 percent of EOL volume, or roughly 2.1 million vehicles per year. Dismantling was a labor-intensive                Sources consulted:        - BMW_Case.pdf                Based on the above information, here\\'s a comprehensive answer to the original question/prompt:'}, {'role': 'assistant', 'content': 'The main challenges BMW faces are:\\n\\n1. **Lack of transparency and understanding of the economic implications of the \"Producer Responsibility\" policy**: BMW\\'s management struggled to understand the implications of the policy, which was introduced in 1989. This lack of understanding can lead to unintended consequences, such as inefficient dismantling and shredding processes, and potential harm to the environment.\\n2. **Difficulty in implementing the policy**: The policy requires manufacturers to take back vehicles that are ready to be scrapped, which can be a complex and time-consuming process. BMW\\'s management may not have the necessary resources or expertise to implement the policy effectively.\\n\\nTo address these challenges, BMW should:\\n\\n1. **Invest in education and training**: Provide management with the necessary education and training to understand the economic implications of the \"Producer Responsibility\" policy and how to implement it effectively.\\n2. **Develop a clear and efficient dismantling and shredding process**: Establish a clear process for dismantling and shredding vehicles, including the identification of suitable locations and the implementation of efficient processes.\\n3. **Increase investment in sustainability initiatives**: Consider investing in sustainability initiatives that promote the responsible disposal and recycling of vehicles, such as electric vehicle charging infrastructure and recycling facilities.\\n4. **Monitor and evaluate the policy\\'s effectiveness**: Regular'}, {'role': 'user', 'content': \"Compare and contrast the problems airbnb & BMW are facing \\n\\n---- Potentially Relevant Information From RAG: \\n\\n\\n Question/Prompt: Compare and contrast the problems airbnb & BMW are facing                Here is relevant information that may help answer the question:                while addressing this new attention to the issue? - Airbnb will suggest prices based on similar properties, what factors are being used to determine this? - While their pricing model may not directly take into account race, in NYC especially there is a lot of defacto segregation, you have black neighborhoods, colombian neighborhoods, russian neighborhoods, italian neighborhoods etc. All with different socio economic issues. So, while it may have not been directly race related, it could be indirectly because of how deep this issue runs.  o What would you recommend Chesky do at this time? - Investigate the pricing model - Understand the other different factors that contribute to why black hosts are charging lesswhile addressing this new attention to the issue? - Airbnb will suggest prices based on similar properties, what factors are being used to determine this? - While their pricing model may not directly take into account race, in NYC especially there is a lot of defacto segregation, you have black neighborhoods, colombian neighborhoods, russian neighborhoods, italian neighborhoods etc. All with different socio economic issues. So, while it may have not been directly race related, it could be indirectly because of how deep this issue runs.  o What would you recommend Chesky do at this time? - Investigate the pricing model - Understand the other different factors that contribute to why black hosts are charging lesswhile addressing this new attention to the issue? - Airbnb will suggest prices based on similar properties, what factors are being used to determine this? - While their pricing model may not directly take into account race, in NYC especially there is a lot of defacto segregation, you have black neighborhoods, colombian neighborhoods, russian neighborhoods, italian neighborhoods etc. All with different socio economic issues. So, while it may have not been directly race related, it could be indirectly because of how deep this issue runs.  o What would you recommend Chesky do at this time? - Investigate the pricing model - Understand the other different factors that contribute to why black hosts are charging lesswhile addressing this new attention to the issue? - Airbnb will suggest prices based on similar properties, what factors are being used to determine this? - While their pricing model may not directly take into account race, in NYC especially there is a lot of defacto segregation, you have black neighborhoods, colombian neighborhoods, russian neighborhoods, italian neighborhoods etc. All with different socio economic issues. So, while it may have not been directly race related, it could be indirectly because of how deep this issue runs.  o What would you recommend Chesky do at this time? - Investigate the pricing model - Understand the other different factors that contribute to why black hosts are charging lesswhile addressing this new attention to the issue? - Airbnb will suggest prices based on similar properties, what factors are being used to determine this? - While their pricing model may not directly take into account race, in NYC especially there is a lot of defacto segregation, you have black neighborhoods, colombian neighborhoods, russian neighborhoods, italian neighborhoods etc. All with different socio economic issues. So, while it may have not been directly race related, it could be indirectly because of how deep this issue runs.  o What would you recommend Chesky do at this time? - Investigate the pricing model - Understand the other different factors that contribute to why black hosts are charging less                Sources consulted:        - airbnb.pdf                Based on the above information, here's a comprehensive answer to the original question/prompt:\"}, {'role': 'assistant', 'content': 'The problems Airbnb and BMW are facing share some similarities, but there are also some key differences.\\n\\n**Similarities:**\\n\\n1. **Lack of transparency and understanding of the economic implications of the problem**: Both Airbnb and BMW are struggling to understand the economic implications of their respective problems, which can lead to unintended consequences.\\n2. **Difficulty in implementing solutions**: Both companies are facing challenges in implementing effective solutions to their problems, including lack of resources, expertise, and infrastructure.\\n3. **Need for education and training**: Both companies need to provide their employees with the necessary education and training to understand the problems they are facing and how to address them.\\n\\n**Differences:**\\n\\n1. **Type of problem**: Airbnb\\'s problem is related to racial bias in pricing, while BMW\\'s problem is related to lack of transparency and understanding of the economic implications of their \"Producer Responsibility\" policy.\\n2. **Scope of impact**: Airbnb\\'s problem has a broader impact, affecting millions of users worldwide, while BMW\\'s problem is primarily focused on a specific industry and region (New York City).\\n3. **Level of urgency**: Airbnb\\'s problem requires immediate attention, as the lack of transparency and understanding of the economic implications can lead to negative consequences, such as decreased user trust and revenue. BMW'}]\n"
     ]
    }
   ],
   "source": [
    "from agent import Agent\n",
    "\n",
    "a=Agent()\n",
    "print(a.chat(\"tell me the challenge airbnb has and how they should solve it?\"),'\\n\\n')\n",
    "\n",
    "print(a.chat(\"tell me the challenge airbnb has and how they should solve it?\"),'\\n\\n')\n",
    "\n",
    "print(a.chat(\"tell me the challenge BMW has and how they should solve it?\"),'\\n\\n')\n",
    "\n",
    "print(a.chat(\"Compare and contrast the problems airbnb & BMW are facing\"),'\\n\\n')\n",
    "\n",
    "messages=a.model.messages\n",
    "print('Agent Message Chain Saved To Local Memory')\n",
    "a.model.clear()\n",
    "print('Agent Message Chain Cleared')\n",
    "print('\\n\\nAgent Messages: ' ,messages)"
   ]
  },
  {
   "cell_type": "markdown",
   "id": "382171dd",
   "metadata": {},
   "source": [
    "# Calling The API\n",
    "#### Reminder: You must set the environment variable ``` HF_API_KEY ``` to your HuggingFace Personal Access Token when running api.py"
   ]
  },
  {
   "cell_type": "code",
   "execution_count": 2,
   "id": "29e107ef-8975-4e8a-bd29-3be2420275e1",
   "metadata": {},
   "outputs": [
    {
     "name": "stdout",
     "output_type": "stream",
     "text": [
      "Response:\n",
      "Role: assistant\n",
      "Content: Based on the provided information and the case of Airbnb, here's a comprehensive answer to the original question/prompt:\n",
      "\n",
      "What challenges does Airbnb face?\n",
      "\n",
      "Airbnb faces several challenges, primarily related to its pricing model, user experience, and the potential for bias in its algorithm. Here are some of the key challenges:\n",
      "\n",
      "1. **Pricing model:** Airbnb's pricing model is based on similar properties, which can lead to inconsistent pricing across different neighborhoods and cities. While the platform suggests prices based on similar properties, the actual prices may vary significantly depending on the location, amenities, and other factors. This inconsistency can make it difficult for hosts to set competitive prices, leading to potential bias in the pricing model.\n",
      "\n",
      "2. **User experience:** Airbnb's user interface and experience can be inconsistent across different platforms and devices. This can lead to confusion and frustration for hosts, who may not have access to the same level of information and features as other users. Additionally, the platform's emphasis on instant booking and ease of use can lead to a lack of attention to detail and a failure to consider the specific needs and preferences of hosts.\n",
      "\n",
      "3. **Bias in the algorithm:** Airbnb's algorithm may be biased against certain types of hosts or users, particularly those from certain racial or ethnic backgrounds. This can\n",
      "Conversation history cleared\n"
     ]
    }
   ],
   "source": [
    "import requests\n",
    "import json\n",
    "\n",
    "# API endpoint\n",
    "url = \"http://localhost:5000/chat\"\n",
    "\n",
    "# Parameters\n",
    "params = {\n",
    "    \"prompt\": \"What challenges does Airbnb face?\",\n",
    "    \"rag\": True,\n",
    "    \"stream\": False\n",
    "}\n",
    "\n",
    "# Make the GET request\n",
    "response = requests.get(url, params=params)\n",
    "\n",
    "# Check if request was successful\n",
    "if response.status_code == 200:\n",
    "    # Parse and print the response\n",
    "    result = response.json()\n",
    "    print(\"Response:\")\n",
    "    print(f\"Role: {result['role']}\")\n",
    "    print(f\"Content: {result['content']}\")\n",
    "else:\n",
    "    print(f\"Error: {response.status_code}\")\n",
    "    print(response.text)\n",
    "\n",
    "# Optional: Clear conversation history\n",
    "clear_response = requests.get(\"http://localhost:5000/clear\")\n",
    "if clear_response.status_code == 200:\n",
    "    print(\"Conversation history cleared\")\n",
    "else:\n",
    "    print(f\"Error clearing conversation: {clear_response.status_code}\")"
   ]
  },
  {
   "cell_type": "code",
   "execution_count": 5,
   "id": "4b2b148b-102a-4a58-a94d-5cdd268e3ee6",
   "metadata": {},
   "outputs": [
    {
     "name": "stdout",
     "output_type": "stream",
     "text": [
      "Agent reset\n"
     ]
    }
   ],
   "source": [
    "# Optional: Reset Agent\n",
    "reset_response = requests.get(\"http://localhost:5000/reset\")\n",
    "if reset_response.status_code == 200:\n",
    "    print(\"Agent reset\")\n",
    "else:\n",
    "    print(f\"Error resetting agent: {reset_response.status_code}\")"
   ]
  }
 ],
 "metadata": {
  "kernelspec": {
   "display_name": "env",
   "language": "python",
   "name": "python3"
  },
  "language_info": {
   "codemirror_mode": {
    "name": "ipython",
    "version": 3
   },
   "file_extension": ".py",
   "mimetype": "text/x-python",
   "name": "python",
   "nbconvert_exporter": "python",
   "pygments_lexer": "ipython3",
   "version": "3.13.1"
  }
 },
 "nbformat": 4,
 "nbformat_minor": 5
}
