{
 "cells": [
  {
   "cell_type": "markdown",
   "id": "940872af-6bfb-4406-96f7-70f825016fe2",
   "metadata": {},
   "source": [
    "# Initializing & Using The Agent Class\n",
    "#### Reminder: You must set the environment variable ``` HF_API_KEY ``` to your HuggingFace Personal Access Token"
   ]
  },
  {
   "cell_type": "code",
   "execution_count": null,
   "id": "9b490bef-ab50-4939-9be6-4eefacac2978",
   "metadata": {},
   "outputs": [],
   "source": [
    "from agent import Agent\n",
    "from s3 import sync_s3_to_documents\n",
    "import os\n",
    "from dotenv import load_dotenv\n",
    "load_dotenv()\n",
    "\n",
    "sync_s3_to_documents('s3-documents-rag', aws_access_key=os.getenv('aws_access_key'),aws_secret_key=os.getenv('aws_secret_key'))\n",
    "\n",
    "a=Agent()\n",
    "\n",
    "print(a.chat(\"tell me the challenge airbnb has and how they should solve it?\"),'\\n\\n')\n",
    "\n",
    "print(a.chat(\"tell me the challenge airbnb has and how they should solve it?\"),'\\n\\n')\n",
    "\n",
    "print(a.chat(\"tell me the challenge BMW has and how they should solve it?\"),'\\n\\n')\n",
    "\n",
    "print(a.chat(\"Compare and contrast the problems airbnb & BMW are facing\"),'\\n\\n')\n",
    "\n",
    "messages=a.model.messages\n",
    "print('Agent Message Chain Saved To Local Memory')\n",
    "a.model.clear()\n",
    "print('Agent Message Chain Cleared')\n",
    "print('\\n\\nAgent Messages: ' ,messages)"
   ]
  },
  {
   "cell_type": "markdown",
   "id": "382171dd",
   "metadata": {},
   "source": [
    "# Calling The API\n",
    "#### Reminder: You must set the environment variable ``` HF_API_KEY ``` to your HuggingFace Personal Access Token when running api.py"
   ]
  },
  {
   "cell_type": "code",
   "execution_count": 22,
   "id": "9304d427",
   "metadata": {},
   "outputs": [],
   "source": [
    "import requests\n",
    "import json\n",
    "import os\n",
    "from dotenv import load_dotenv\n",
    "\n",
    "load_dotenv()\n",
    "# API endpoint\n",
    "url = \"http://localhost:5000/s3\"\n",
    "\n",
    "# Parameters\n",
    "params = {\n",
    "    \"bucket_name\": \"s3-documents-rag\",\n",
    "    \"aws_access_key\": os.getenv('aws_access_key'),\n",
    "    \"aws_secret_key\": os.getenv('aws_secret_key')\n",
    "    }\n",
    "\n",
    "# Make the GET request\n",
    "response = requests.get(url, params=params)\n"
   ]
  },
  {
   "cell_type": "code",
   "execution_count": null,
   "id": "29e107ef-8975-4e8a-bd29-3be2420275e1",
   "metadata": {},
   "outputs": [
    {
     "name": "stdout",
     "output_type": "stream",
     "text": [
      "Response:\n",
      "Role: assistant\n",
      "Content: Based on the provided information, here's a comprehensive answer to the original question/prompt:\n",
      "\n",
      "What challenges does Airbnb face?\n",
      "\n",
      "Airbnb, as a platform, faces several challenges that impact its business model, user experience, and reputation. Some of the key challenges include:\n",
      "\n",
      "1. **Pricing Model**: Airbnb's pricing model is based on similar properties, which can lead to inconsistent pricing across different cities and neighborhoods. This can be attributed to the platform's algorithm, which may not accurately reflect the true cost of hosting on the platform. To address this, Airbnb should investigate the pricing model and understand the factors that contribute to price differences.\n",
      "\n",
      "2. **Racial and Socioeconomic Bias**: Airbnb has faced criticism for racial and socioeconomic bias in its pricing model, particularly in cities like New York. The platform's algorithm may not account for differences in pricing between black, Colombian, Russian, and Italian neighborhoods, leading to inconsistent pricing. Airbnb should investigate the pricing model and consider implementing measures to address this bias.\n",
      "\n",
      "3. **Verification Process**: The verification process on Airbnb may not be transparent, and users may not be required to verify themselves with Facebook, Google, or Passport. This lack of transparency can lead to unintentional bias in the platform's fraud prevention algorithm. Airbnb should investigate the verification\n",
      "Conversation history cleared\n"
     ]
    }
   ],
   "source": [
    "# API endpoint\n",
    "url = \"http://localhost:5000/chat\"\n",
    "\n",
    "# Parameters\n",
    "params = {\n",
    "    \"prompt\": \"What challenges does Airbnb face?\",\n",
    "    \"rag\": True,\n",
    "    \"stream\": False\n",
    "}\n",
    "\n",
    "# Make the GET request\n",
    "response = requests.get(url, params=params)\n",
    "\n",
    "# Check if request was successful\n",
    "if response.status_code == 200:\n",
    "    # Parse and print the response\n",
    "    result = response.json()\n",
    "    print(\"Response:\")\n",
    "    print(f\"Role: {result['role']}\")\n",
    "    print(f\"Content: {result['content']}\")\n",
    "else:\n",
    "    print(f\"Error: {response.status_code}\")\n",
    "    print(response.text)\n"
   ]
  },
  {
   "cell_type": "code",
   "execution_count": 25,
   "id": "1b6be5f3",
   "metadata": {},
   "outputs": [
    {
     "name": "stdout",
     "output_type": "stream",
     "text": [
      "Conversation history cleared\n"
     ]
    }
   ],
   "source": [
    "\n",
    "# Optional: Clear conversation history\n",
    "clear_response = requests.get(\"http://localhost:5000/clear\")\n",
    "if clear_response.status_code == 200:\n",
    "    print(\"Conversation history cleared\")\n",
    "else:\n",
    "    print(f\"Error clearing conversation: {clear_response.status_code}\")"
   ]
  },
  {
   "cell_type": "code",
   "execution_count": 24,
   "id": "4b2b148b-102a-4a58-a94d-5cdd268e3ee6",
   "metadata": {},
   "outputs": [
    {
     "name": "stdout",
     "output_type": "stream",
     "text": [
      "Agent reset\n"
     ]
    }
   ],
   "source": [
    "# Optional: Reset Agent\n",
    "reset_response = requests.get(\"http://localhost:5000/reset\")\n",
    "if reset_response.status_code == 200:\n",
    "    print(\"Agent reset\")\n",
    "else:\n",
    "    print(f\"Error resetting agent: {reset_response.status_code}\")"
   ]
  }
 ],
 "metadata": {
  "kernelspec": {
   "display_name": "env",
   "language": "python",
   "name": "python3"
  },
  "language_info": {
   "codemirror_mode": {
    "name": "ipython",
    "version": 3
   },
   "file_extension": ".py",
   "mimetype": "text/x-python",
   "name": "python",
   "nbconvert_exporter": "python",
   "pygments_lexer": "ipython3",
   "version": "3.13.1"
  }
 },
 "nbformat": 4,
 "nbformat_minor": 5
}
