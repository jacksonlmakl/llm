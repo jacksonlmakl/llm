{
 "cells": [
  {
   "cell_type": "markdown",
   "id": "940872af-6bfb-4406-96f7-70f825016fe2",
   "metadata": {},
   "source": [
    "# Initializing & Using The Agent Class\n",
    "#### Reminder: You must set the environment variable ``` HF_API_KEY ``` to your HuggingFace Personal Access Token"
   ]
  },
  {
   "cell_type": "code",
   "execution_count": null,
   "id": "9b490bef-ab50-4939-9be6-4eefacac2978",
   "metadata": {},
   "outputs": [],
   "source": [
    "from agent import Agent"
   ]
  },
  {
   "cell_type": "code",
   "execution_count": null,
   "id": "8ce5984b-fd43-43ae-a176-539fd433845e",
   "metadata": {},
   "outputs": [],
   "source": [
    "a=Agent()\n",
    "a.chat(\"tell me the challenge airbnb has and how they should solve it?\")"
   ]
  },
  {
   "cell_type": "code",
   "execution_count": null,
   "id": "2cc76efe-23c5-4bd7-a9cd-8126452a9f3d",
   "metadata": {},
   "outputs": [],
   "source": [
    "a.chat(\"tell me the challenge airbnb has and how they should solve it?\")"
   ]
  },
  {
   "cell_type": "code",
   "execution_count": null,
   "id": "df893610-0875-499e-8541-5388854736d3",
   "metadata": {},
   "outputs": [],
   "source": [
    "a.chat(\"tell me the challenge BMW has and how they should solve it?\")"
   ]
  },
  {
   "cell_type": "code",
   "execution_count": null,
   "id": "7d153401-77b5-45f4-881c-fa38a9d5f691",
   "metadata": {},
   "outputs": [],
   "source": [
    "a.chat(\"Compare and contrast the problems airbnb & BMW are facing\")"
   ]
  },
  {
   "cell_type": "code",
   "execution_count": null,
   "id": "610da5c5-25f0-4053-8e6a-1cd45013cc0c",
   "metadata": {},
   "outputs": [],
   "source": [
    "messages=a.model.messages"
   ]
  },
  {
   "cell_type": "code",
   "execution_count": null,
   "id": "aeaa79a8-3663-475b-9b62-a09556b92261",
   "metadata": {},
   "outputs": [],
   "source": [
    "a.model.clear()"
   ]
  },
  {
   "cell_type": "code",
   "execution_count": null,
   "id": "2eade9a5-8493-44f2-833b-c3c0ff77c568",
   "metadata": {},
   "outputs": [],
   "source": [
    "messages"
   ]
  },
  {
   "cell_type": "code",
   "execution_count": null,
   "id": "59bee4f0-6001-434a-8c15-f665c7a059c1",
   "metadata": {},
   "outputs": [],
   "source": [
    "a.model.messages"
   ]
  },
  {
   "cell_type": "code",
   "execution_count": 2,
   "id": "29e107ef-8975-4e8a-bd29-3be2420275e1",
   "metadata": {},
   "outputs": [
    {
     "name": "stdout",
     "output_type": "stream",
     "text": [
      "Response:\n",
      "Role: assistant\n",
      "Content: Based on the provided information and the case of Airbnb, here's a comprehensive answer to the original question/prompt:\n",
      "\n",
      "What challenges does Airbnb face?\n",
      "\n",
      "Airbnb faces several challenges, primarily related to its pricing model, user experience, and the potential for bias in its algorithm. Here are some of the key challenges:\n",
      "\n",
      "1. **Pricing model:** Airbnb's pricing model is based on similar properties, which can lead to inconsistent pricing across different neighborhoods and cities. While the platform suggests prices based on similar properties, the actual prices may vary significantly depending on the location, amenities, and other factors. This inconsistency can make it difficult for hosts to set competitive prices, leading to potential bias in the pricing model.\n",
      "\n",
      "2. **User experience:** Airbnb's user interface and experience can be inconsistent across different platforms and devices. This can lead to confusion and frustration for hosts, who may not have access to the same level of information and features as other users. Additionally, the platform's emphasis on instant booking and ease of use can lead to a lack of attention to detail and a failure to consider the specific needs and preferences of hosts.\n",
      "\n",
      "3. **Bias in the algorithm:** Airbnb's algorithm may be biased against certain types of hosts or users, particularly those from certain racial or ethnic backgrounds. This can\n",
      "Conversation history cleared\n"
     ]
    }
   ],
   "source": [
    "import requests\n",
    "import json\n",
    "\n",
    "# API endpoint\n",
    "url = \"http://localhost:5000/chat\"\n",
    "\n",
    "# Parameters\n",
    "params = {\n",
    "    \"prompt\": \"What challenges does Airbnb face?\",\n",
    "    \"rag\": True,\n",
    "    \"stream\": False\n",
    "}\n",
    "\n",
    "# Make the GET request\n",
    "response = requests.get(url, params=params)\n",
    "\n",
    "# Check if request was successful\n",
    "if response.status_code == 200:\n",
    "    # Parse and print the response\n",
    "    result = response.json()\n",
    "    print(\"Response:\")\n",
    "    print(f\"Role: {result['role']}\")\n",
    "    print(f\"Content: {result['content']}\")\n",
    "else:\n",
    "    print(f\"Error: {response.status_code}\")\n",
    "    print(response.text)\n",
    "\n",
    "# Optional: Clear conversation history\n",
    "clear_response = requests.get(\"http://localhost:5000/clear\")\n",
    "if clear_response.status_code == 200:\n",
    "    print(\"Conversation history cleared\")\n",
    "else:\n",
    "    print(f\"Error clearing conversation: {clear_response.status_code}\")"
   ]
  },
  {
   "cell_type": "code",
   "execution_count": 5,
   "id": "4b2b148b-102a-4a58-a94d-5cdd268e3ee6",
   "metadata": {},
   "outputs": [
    {
     "name": "stdout",
     "output_type": "stream",
     "text": [
      "Agent reset\n"
     ]
    }
   ],
   "source": [
    "# Optional: Reset Agent\n",
    "reset_response = requests.get(\"http://localhost:5000/reset\")\n",
    "if reset_response.status_code == 200:\n",
    "    print(\"Agent reset\")\n",
    "else:\n",
    "    print(f\"Error resetting agent: {reset_response.status_code}\")"
   ]
  }
 ],
 "metadata": {
  "kernelspec": {
   "display_name": "env",
   "language": "python",
   "name": "python3"
  },
  "language_info": {
   "codemirror_mode": {
    "name": "ipython",
    "version": 3
   },
   "file_extension": ".py",
   "mimetype": "text/x-python",
   "name": "python",
   "nbconvert_exporter": "python",
   "pygments_lexer": "ipython3",
   "version": "3.13.1"
  }
 },
 "nbformat": 4,
 "nbformat_minor": 5
}
