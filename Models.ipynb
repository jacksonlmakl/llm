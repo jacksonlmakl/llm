{
 "cells": [
  {
   "cell_type": "code",
   "execution_count": 1,
   "id": "ce1087ef-60e8-4b8d-b0f4-b0abc061bad7",
   "metadata": {},
   "outputs": [],
   "source": [
    "from agent import Agent\n",
    "t=\"***********\"\n",
    "a=Agent(t)"
   ]
  },
  {
   "cell_type": "code",
   "execution_count": 2,
   "id": "2cc76efe-23c5-4bd7-a9cd-8126452a9f3d",
   "metadata": {},
   "outputs": [
    {
     "name": "stderr",
     "output_type": "stream",
     "text": [
      "100%|██████████████████████████████████████████| 4/4 [00:00<00:00, 16131.94it/s]\n",
      "100%|███████████████████████████████████████████| 4/4 [00:00<00:00, 1273.12it/s]\n"
     ]
    },
    {
     "data": {
      "text/plain": [
       "\"Based on the provided information, the challenge AirBnB faces is related to the issue of racial bias in their pricing model, particularly in New York City. Here's a summary of the key points:\\n\\n**Problem:**\\n\\n1. **Unintended bias in pricing model**: The pricing model used by AirBnB may be biased against black hosts, resulting in lower prices compared to other hosts with similar properties.\\n2. **Historical context**: The issue has a massive historical context, with deep-seated racial segregation in NYC, which contributes to the unequal treatment of black neighborhoods.\\n\\n**Factors contributing to the issue:**\\n\\n1. **Socio-economic factors**: The pricing model may not directly take into account socio-economic factors that affect black hosts, such as lower average income, higher unemployment rates, and limited access to credit.\\n2. **Defacto segregation**: The city's racial segregation perpetuates unequal access to resources, including affordable housing, education, and employment opportunities, which affects the pricing of properties in black neighborhoods.\\n\\n**Recommendations:**\\n\\n1. **Investigate the pricing model**: Understand the factors that contribute to the pricing of properties in black neighborhoods, including socio-economic factors, defacto segregation, and the impact of racial bias.\\n2. **Address\""
      ]
     },
     "execution_count": 2,
     "metadata": {},
     "output_type": "execute_result"
    }
   ],
   "source": [
    "a.chat(\"tell me the challenge airbnb has and how they should solve it?\")"
   ]
  },
  {
   "cell_type": "code",
   "execution_count": 3,
   "id": "df893610-0875-499e-8541-5388854736d3",
   "metadata": {},
   "outputs": [
    {
     "name": "stderr",
     "output_type": "stream",
     "text": [
      "100%|███████████████████████████████████████████| 4/4 [00:00<00:00, 8128.50it/s]\n",
      "100%|████████████████████████████████████████████| 4/4 [00:00<00:00, 476.60it/s]\n"
     ]
    },
    {
     "data": {
      "text/plain": [
       "'The challenge BMW has is related to the issue of \"Producer Responsibility\" in the context of end-of-life (EOL) products, specifically vehicles. Here\\'s a summary of the key points:\\n\\n**Problem:**\\n\\n1. **Lack of understanding of economic implications**: BMW\\'s management team struggled to understand the economic implications of the \"Producer Responsibility\" policy, which would require the manufacturer to take back vehicles that were ready to be scrapped.\\n2. **Uncertainty about cost factors**: There were several factors that were subject to change, such as maintenance, warehousing, and the possibility of modifying the contract, which made it difficult to estimate the cost of the policy.\\n\\n**Recommendations:**\\n\\n1. **Conduct thorough analysis**: Conduct a thorough analysis of the economic implications of the policy, including the costs associated with dismantling, shredding, and other end-of-life activities.\\n2. **Estimate costs**: Estimate the costs of the policy, including the costs of dismantling, shredding, and other end-of-life activities, as well as the costs of modifying the contract.\\n3. **Consider multiple scenarios**: Consider multiple scenarios, including different scenarios for vehicle type, size, and location, to determine the most cost-effective approach.\\n4. **Develop a contingency plan'"
      ]
     },
     "execution_count": 3,
     "metadata": {},
     "output_type": "execute_result"
    }
   ],
   "source": [
    "a.chat(\"tell me the challenge BMW has and how they should solve it?\")"
   ]
  },
  {
   "cell_type": "code",
   "execution_count": 4,
   "id": "7d153401-77b5-45f4-881c-fa38a9d5f691",
   "metadata": {},
   "outputs": [
    {
     "name": "stderr",
     "output_type": "stream",
     "text": [
      "100%|██████████████████████████████████████████| 4/4 [00:00<00:00, 16194.22it/s]\n",
      "100%|███████████████████████████████████████████| 4/4 [00:00<00:00, 1373.61it/s]\n"
     ]
    },
    {
     "data": {
      "text/plain": [
       "'The challenges faced by Airbnb and BMW can be compared and contrasted in the following ways:\\n\\n**Similarities:**\\n\\n1. **Regulatory pressure**: Both Airbnb and BMW are facing regulatory pressure to address issues related to diversity, equity, and inclusion.\\n2. **Complexity of the problem**: Both companies are dealing with complex issues related to bias, segregation, and unequal treatment of certain groups.\\n3. **Need for transparency**: Both companies need to be transparent about their processes and policies to address concerns and build trust with their users.\\n\\n**Differences:**\\n\\n1. **Scope of the problem**: Airbnb\\'s issue is more focused on the end-to-end experience of booking a property, while BMW\\'s issue is more focused on the economic implications of its \"Producer Responsibility\" policy.\\n2. **Industry context**: Airbnb operates in a highly competitive and rapidly changing market, while BMW operates in a more established industry with a stronger focus on traditional manufacturing.\\n3. **Regulatory framework**: Airbnb\\'s issue is more closely tied to existing regulations related to diversity and inclusion, while BMW\\'s issue is more closely tied to its own \"Producer Responsibility\" policy and the regulatory framework of the automotive industry.\\n4. **Potential impact**: Airbnb\\'s issue has a more direct impact on the user experience and'"
      ]
     },
     "execution_count": 4,
     "metadata": {},
     "output_type": "execute_result"
    }
   ],
   "source": [
    "a.chat(\"Compare and contrast the problems airbnb & BMW are facing\")"
   ]
  },
  {
   "cell_type": "code",
   "execution_count": 5,
   "id": "610da5c5-25f0-4053-8e6a-1cd45013cc0c",
   "metadata": {},
   "outputs": [],
   "source": [
    "messages=a.model.messages"
   ]
  },
  {
   "cell_type": "code",
   "execution_count": 6,
   "id": "aeaa79a8-3663-475b-9b62-a09556b92261",
   "metadata": {},
   "outputs": [
    {
     "data": {
      "text/plain": [
       "True"
      ]
     },
     "execution_count": 6,
     "metadata": {},
     "output_type": "execute_result"
    }
   ],
   "source": [
    "a.model.clear()"
   ]
  },
  {
   "cell_type": "code",
   "execution_count": 7,
   "id": "2eade9a5-8493-44f2-833b-c3c0ff77c568",
   "metadata": {},
   "outputs": [
    {
     "data": {
      "text/plain": [
       "[{'role': 'system',\n",
       "  'content': 'You are a helpful, smart assistant good at parsing text, language, and summarizing.'},\n",
       " {'role': 'system',\n",
       "  'content': 'You will be given a prompt from the user, and some information that may be relevant. Answer the user prompt accuratley using relevant information.'},\n",
       " {'role': 'user',\n",
       "  'content': \"tell me the challenge airbnb has and how they should solve it? \\n\\n---- Potentially Relevant Information From RAG: \\n\\n\\n Question/Prompt: tell me the challenge airbnb has and how they should solve it?                Here is relevant information that may help answer the question:                originated. Was this user required to verify themself with a Facebook, Google, Passport, etc. or was it optional to use the platform? - Was this an unintentional bias in their fraud prevention algorithm? o What would you recommend Chesky do at this time? - This is an issue that is sensitive, and has a massive historical context it is important not to discount their experience - He should apologize, take accountability, explain that this obviously was not AirBnb’s intention but can understand why this situation would elicit this type of reaction   Academic Research o What should Chesky consider while addressing this new attention to the issue? - Airbnb will suggest prices based on similar properties, what factors are being used to determineoriginated. Was this user required to verify themself with a Facebook, Google, Passport, etc. or was it optional to use the platform? - Was this an unintentional bias in their fraud prevention algorithm? o What would you recommend Chesky do at this time? - This is an issue that is sensitive, and has a massive historical context it is important not to discount their experience - He should apologize, take accountability, explain that this obviously was not AirBnb’s intention but can understand why this situation would elicit this type of reaction   Academic Research o What should Chesky consider while addressing this new attention to the issue? - Airbnb will suggest prices based on similar properties, what factors are being used to determinewhile addressing this new attention to the issue? - Airbnb will suggest prices based on similar properties, what factors are being used to determine this? - While their pricing model may not directly take into account race, in NYC especially there is a lot of defacto segregation, you have black neighborhoods, colombian neighborhoods, russian neighborhoods, italian neighborhoods etc. All with different socio economic issues. So, while it may have not been directly race related, it could be indirectly because of how deep this issue runs.  o What would you recommend Chesky do at this time? - Investigate the pricing model - Understand the other different factors that contribute to why black hosts are charging lesswhile addressing this new attention to the issue? - Airbnb will suggest prices based on similar properties, what factors are being used to determine this? - While their pricing model may not directly take into account race, in NYC especially there is a lot of defacto segregation, you have black neighborhoods, colombian neighborhoods, russian neighborhoods, italian neighborhoods etc. All with different socio economic issues. So, while it may have not been directly race related, it could be indirectly because of how deep this issue runs.  o What would you recommend Chesky do at this time? - Investigate the pricing model - Understand the other different factors that contribute to why black hosts are charging lessAirBnB Case Analysis  Analyze the case of AirBnB presented in class by answering the questions in-line below.  Your analysis here directly translates into the class’s debrief success.  Use this structure for our case discussions:  Emails o What is the problem/issue Brian Chesky, CEO of AirBnB faces?   - The issue is that it would appear as if two users had very different experiences onboarding to the app, highlighting potential bias in the algorithm used to verify fraudulent accounts. o What should Chesky consider while addressing this issue? - Chesky first needs to understand where the problem originated. Was this user required to verify themself with a Facebook, Google, Passport, etc. or was it optional to use the platform? - Was this                Sources consulted:        - airbnb.pdf                Based on the above information, here's a comprehensive answer to the original question/prompt:\"},\n",
       " {'role': 'assistant',\n",
       "  'content': \"Based on the provided information, the challenge AirBnB faces is related to the issue of racial bias in their pricing model, particularly in New York City. Here's a summary of the key points:\\n\\n**Problem:**\\n\\n1. **Unintended bias in pricing model**: The pricing model used by AirBnB may be biased against black hosts, resulting in lower prices compared to other hosts with similar properties.\\n2. **Historical context**: The issue has a massive historical context, with deep-seated racial segregation in NYC, which contributes to the unequal treatment of black neighborhoods.\\n\\n**Factors contributing to the issue:**\\n\\n1. **Socio-economic factors**: The pricing model may not directly take into account socio-economic factors that affect black hosts, such as lower average income, higher unemployment rates, and limited access to credit.\\n2. **Defacto segregation**: The city's racial segregation perpetuates unequal access to resources, including affordable housing, education, and employment opportunities, which affects the pricing of properties in black neighborhoods.\\n\\n**Recommendations:**\\n\\n1. **Investigate the pricing model**: Understand the factors that contribute to the pricing of properties in black neighborhoods, including socio-economic factors, defacto segregation, and the impact of racial bias.\\n2. **Address\"},\n",
       " {'role': 'user',\n",
       "  'content': 'tell me the challenge BMW has and how they should solve it? \\n\\n---- Potentially Relevant Information From RAG: \\n\\n\\n Question/Prompt: tell me the challenge BMW has and how they should solve it?                Here is relevant information that may help answer the question:                a \"Producer Responsibility\" policy, this regulation would obligate the manufacturers of automobiles to take back vehicles that were ready to be scrapped. The auto takeback proposal was actually the first of several initiatives that would also affect the end-of-life (EOL) treatment of such other products as household appliances and consumer electronics. But in 1989, no other industry had faced anything like this new policy. Managers at BMW and other German automakers struggled to under-stand the implications for their own company. Perhaps the first exercise was to gauge the magnitude of the economic effect. Stated another way, management wanted to know what the cost o( the new policy was likely to be, if BMW continued to do business as usual. Background A loose net work of dismantlers and shredders managed most of the recycling and disposal of German vehicles, accounting for about 95 percent of EOL volume, or roughly 2.1 million vehicles per year. Dismantling was a labor-intensivea \"Producer Responsibility\" policy, this regulation would obligate the manufacturers of automobiles to take back vehicles that were ready to be scrapped. The auto takeback proposal was actually the first of several initiatives that would also affect the end-of-life (EOL) treatment of such other products as household appliances and consumer electronics. But in 1989, no other industry had faced anything like this new policy. Managers at BMW and other German automakers struggled to under-stand the implications for their own company. Perhaps the first exercise was to gauge the magnitude of the economic effect. Stated another way, management wanted to know what the cost o( the new policy was likely to be, if BMW continued to do business as usual. Background A loose net work of dismantlers and shredders managed most of the recycling and disposal of German vehicles, accounting for about 95 percent of EOL volume, or roughly 2.1 million vehicles per year. Dismantling was a labor-intensivea \"Producer Responsibility\" policy, this regulation would obligate the manufacturers of automobiles to take back vehicles that were ready to be scrapped. The auto takeback proposal was actually the first of several initiatives that would also affect the end-of-life (EOL) treatment of such other products as household appliances and consumer electronics. But in 1989, no other industry had faced anything like this new policy. Managers at BMW and other German automakers struggled to under-stand the implications for their own company. Perhaps the first exercise was to gauge the magnitude of the economic effect. Stated another way, management wanted to know what the cost o( the new policy was likely to be, if BMW continued to do business as usual. Background A loose net work of dismantlers and shredders managed most of the recycling and disposal of German vehicles, accounting for about 95 percent of EOL volume, or roughly 2.1 million vehicles per year. Dismantling was a labor-intensiveand shredders managed most of the recycling and disposal of German vehicles, accounting for about 95 percent of EOL volume, or roughly 2.1 million vehicles per year. Dismantling was a labor-intensive process that removed auto parts, fluids, and materials that could be THE BMW COMPANY 451 reasonable assumptions about relevant cost factors, she was able to optimize the production plan, and she deter-mined that it should be possible to meet the 25 percent profitability target. Nevertheless, there seemed to be several factors in it that were subject to change-things that had come up in her various conversations, such as maintenance, warehousing, and the possibility of modifying the contract. She expected that Mr. Cox would quiz her about all of these factors, and she knew it would be important for her to be prepared for his questions.and shredders managed most of the recycling and disposal of German vehicles, accounting for about 95 percent of EOL volume, or roughly 2.1 million vehicles per year. Dismantling was a labor-intensive process that removed auto parts, fluids, and materials that could be THE BMW COMPANY 451 reasonable assumptions about relevant cost factors, she was able to optimize the production plan, and she deter-mined that it should be possible to meet the 25 percent profitability target. Nevertheless, there seemed to be several factors in it that were subject to change-things that had come up in her various conversations, such as maintenance, warehousing, and the possibility of modifying the contract. She expected that Mr. Cox would quiz her about all of these factors, and she knew it would be important for her to be prepared for his questions.                Sources consulted:        - BMW_Case.pdf                Based on the above information, here\\'s a comprehensive answer to the original question/prompt:'},\n",
       " {'role': 'assistant',\n",
       "  'content': 'The challenge BMW has is related to the issue of \"Producer Responsibility\" in the context of end-of-life (EOL) products, specifically vehicles. Here\\'s a summary of the key points:\\n\\n**Problem:**\\n\\n1. **Lack of understanding of economic implications**: BMW\\'s management team struggled to understand the economic implications of the \"Producer Responsibility\" policy, which would require the manufacturer to take back vehicles that were ready to be scrapped.\\n2. **Uncertainty about cost factors**: There were several factors that were subject to change, such as maintenance, warehousing, and the possibility of modifying the contract, which made it difficult to estimate the cost of the policy.\\n\\n**Recommendations:**\\n\\n1. **Conduct thorough analysis**: Conduct a thorough analysis of the economic implications of the policy, including the costs associated with dismantling, shredding, and other end-of-life activities.\\n2. **Estimate costs**: Estimate the costs of the policy, including the costs of dismantling, shredding, and other end-of-life activities, as well as the costs of modifying the contract.\\n3. **Consider multiple scenarios**: Consider multiple scenarios, including different scenarios for vehicle type, size, and location, to determine the most cost-effective approach.\\n4. **Develop a contingency plan'},\n",
       " {'role': 'user',\n",
       "  'content': \"Compare and contrast the problems airbnb & BMW are facing \\n\\n---- Potentially Relevant Information From RAG: \\n\\n\\n Question/Prompt: Compare and contrast the problems airbnb & BMW are facing                Here is relevant information that may help answer the question:                while addressing this new attention to the issue? - Airbnb will suggest prices based on similar properties, what factors are being used to determine this? - While their pricing model may not directly take into account race, in NYC especially there is a lot of defacto segregation, you have black neighborhoods, colombian neighborhoods, russian neighborhoods, italian neighborhoods etc. All with different socio economic issues. So, while it may have not been directly race related, it could be indirectly because of how deep this issue runs.  o What would you recommend Chesky do at this time? - Investigate the pricing model - Understand the other different factors that contribute to why black hosts are charging lesswhile addressing this new attention to the issue? - Airbnb will suggest prices based on similar properties, what factors are being used to determine this? - While their pricing model may not directly take into account race, in NYC especially there is a lot of defacto segregation, you have black neighborhoods, colombian neighborhoods, russian neighborhoods, italian neighborhoods etc. All with different socio economic issues. So, while it may have not been directly race related, it could be indirectly because of how deep this issue runs.  o What would you recommend Chesky do at this time? - Investigate the pricing model - Understand the other different factors that contribute to why black hosts are charging lesswhile addressing this new attention to the issue? - Airbnb will suggest prices based on similar properties, what factors are being used to determine this? - While their pricing model may not directly take into account race, in NYC especially there is a lot of defacto segregation, you have black neighborhoods, colombian neighborhoods, russian neighborhoods, italian neighborhoods etc. All with different socio economic issues. So, while it may have not been directly race related, it could be indirectly because of how deep this issue runs.  o What would you recommend Chesky do at this time? - Investigate the pricing model - Understand the other different factors that contribute to why black hosts are charging lesswhile addressing this new attention to the issue? - Airbnb will suggest prices based on similar properties, what factors are being used to determine this? - While their pricing model may not directly take into account race, in NYC especially there is a lot of defacto segregation, you have black neighborhoods, colombian neighborhoods, russian neighborhoods, italian neighborhoods etc. All with different socio economic issues. So, while it may have not been directly race related, it could be indirectly because of how deep this issue runs.  o What would you recommend Chesky do at this time? - Investigate the pricing model - Understand the other different factors that contribute to why black hosts are charging lessAirBnB Case Analysis  Analyze the case of AirBnB presented in class by answering the questions in-line below.  Your analysis here directly translates into the class’s debrief success.  Use this structure for our case discussions:  Emails o What is the problem/issue Brian Chesky, CEO of AirBnB faces?   - The issue is that it would appear as if two users had very different experiences onboarding to the app, highlighting potential bias in the algorithm used to verify fraudulent accounts. o What should Chesky consider while addressing this issue? - Chesky first needs to understand where the problem originated. Was this user required to verify themself with a Facebook, Google, Passport, etc. or was it optional to use the platform? - Was this                Sources consulted:        - airbnb.pdf                Based on the above information, here's a comprehensive answer to the original question/prompt:\"},\n",
       " {'role': 'assistant',\n",
       "  'content': 'The challenges faced by Airbnb and BMW can be compared and contrasted in the following ways:\\n\\n**Similarities:**\\n\\n1. **Regulatory pressure**: Both Airbnb and BMW are facing regulatory pressure to address issues related to diversity, equity, and inclusion.\\n2. **Complexity of the problem**: Both companies are dealing with complex issues related to bias, segregation, and unequal treatment of certain groups.\\n3. **Need for transparency**: Both companies need to be transparent about their processes and policies to address concerns and build trust with their users.\\n\\n**Differences:**\\n\\n1. **Scope of the problem**: Airbnb\\'s issue is more focused on the end-to-end experience of booking a property, while BMW\\'s issue is more focused on the economic implications of its \"Producer Responsibility\" policy.\\n2. **Industry context**: Airbnb operates in a highly competitive and rapidly changing market, while BMW operates in a more established industry with a stronger focus on traditional manufacturing.\\n3. **Regulatory framework**: Airbnb\\'s issue is more closely tied to existing regulations related to diversity and inclusion, while BMW\\'s issue is more closely tied to its own \"Producer Responsibility\" policy and the regulatory framework of the automotive industry.\\n4. **Potential impact**: Airbnb\\'s issue has a more direct impact on the user experience and'}]"
      ]
     },
     "execution_count": 7,
     "metadata": {},
     "output_type": "execute_result"
    }
   ],
   "source": [
    "messages"
   ]
  },
  {
   "cell_type": "code",
   "execution_count": 8,
   "id": "59bee4f0-6001-434a-8c15-f665c7a059c1",
   "metadata": {},
   "outputs": [
    {
     "data": {
      "text/plain": [
       "[]"
      ]
     },
     "execution_count": 8,
     "metadata": {},
     "output_type": "execute_result"
    }
   ],
   "source": [
    "a.model.messages"
   ]
  },
  {
   "cell_type": "code",
   "execution_count": null,
   "id": "c9725161-0ab0-458a-9ff2-9305d0346daa",
   "metadata": {},
   "outputs": [],
   "source": []
  }
 ],
 "metadata": {
  "kernelspec": {
   "display_name": "Python 3 (ipykernel)",
   "language": "python",
   "name": "python3"
  },
  "language_info": {
   "codemirror_mode": {
    "name": "ipython",
    "version": 3
   },
   "file_extension": ".py",
   "mimetype": "text/x-python",
   "name": "python",
   "nbconvert_exporter": "python",
   "pygments_lexer": "ipython3",
   "version": "3.13.1"
  }
 },
 "nbformat": 4,
 "nbformat_minor": 5
}
