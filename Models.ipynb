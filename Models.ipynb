{
 "cells": [
  {
   "cell_type": "markdown",
   "id": "940872af-6bfb-4406-96f7-70f825016fe2",
   "metadata": {},
   "source": [
    "# Initializing & Using The Agent Class\n",
    "#### Reminder: You must set the environment variable ``` HF_API_KEY ``` to your HuggingFace Personal Access Token"
   ]
  },
  {
   "cell_type": "code",
   "execution_count": 1,
   "id": "9b490bef-ab50-4939-9be6-4eefacac2978",
   "metadata": {},
   "outputs": [],
   "source": [
    "from agent import Agent"
   ]
  },
  {
   "cell_type": "code",
   "execution_count": 2,
   "id": "8ce5984b-fd43-43ae-a176-539fd433845e",
   "metadata": {},
   "outputs": [],
   "source": [
    "a=Agent()"
   ]
  },
  {
   "cell_type": "code",
   "execution_count": 3,
   "id": "2cc76efe-23c5-4bd7-a9cd-8126452a9f3d",
   "metadata": {},
   "outputs": [
    {
     "name": "stderr",
     "output_type": "stream",
     "text": [
      "100%|██████████████████████████████████████████| 4/4 [00:00<00:00, 14755.69it/s]\n",
      "100%|███████████████████████████████████████████| 4/4 [00:00<00:00, 1098.34it/s]\n"
     ]
    },
    {
     "data": {
      "text/plain": [
       "'The challenge Airbnb faces is the issue of racial bias in their pricing model, which disproportionately affects Black hosts in New York City. This bias is evident in the way Airbnb suggests prices based on similar properties, which may not accurately reflect the market value of the properties.\\n\\nTo solve this issue, Airbnb should investigate their pricing model and understand the factors that contribute to the different prices charged by Black hosts. This includes analyzing the data collected from their platform, including the types of properties, neighborhoods, and time of year that are being used, as well as the prices charged by Black hosts.\\n\\nHere are some specific steps Airbnb can take to address this issue:\\n\\n1. **Investigate their pricing model**: Airbnb should conduct a thorough analysis of their pricing model to understand how it is calculated and how it affects Black hosts. This includes examining the data collected from their platform, including the types of properties, neighborhoods, and time of year that are being used, as well as the prices charged by Black hosts.\\n\\n2. **Understand the factors contributing to the pricing disparity**: Airbnb should analyze the data collected from their platform to understand the factors that contribute to the different prices charged by Black hosts. This includes examining the types of properties, neighborhoods, and time of year that are being used, as well as'"
      ]
     },
     "execution_count": 3,
     "metadata": {},
     "output_type": "execute_result"
    }
   ],
   "source": [
    "a.chat(\"tell me the challenge airbnb has and how they should solve it?\")"
   ]
  },
  {
   "cell_type": "code",
   "execution_count": 4,
   "id": "df893610-0875-499e-8541-5388854736d3",
   "metadata": {},
   "outputs": [
    {
     "name": "stderr",
     "output_type": "stream",
     "text": [
      "100%|██████████████████████████████████████████| 4/4 [00:00<00:00, 18335.76it/s]\n",
      "100%|████████████████████████████████████████████| 4/4 [00:00<00:00, 724.75it/s]\n"
     ]
    },
    {
     "data": {
      "text/plain": [
       "'The challenge BMW faces is the implementation of a \"Producer Responsibility\" policy, which would obligate the manufacturers of automobiles to take back vehicles that were ready to be scrapped. This policy would require BMW to invest in a more comprehensive end-of-life (EOL) treatment of their vehicles, including dismantling, recycling, and disposal.\\n\\nTo solve this issue, BMW should consider the following steps:\\n\\n1. **Develop a clear policy framework**: BMW should establish a clear policy framework that outlines the responsibilities of manufacturers, the processes for dismantling and recycling vehicles, and the criteria for determining what constitutes a \"scrapped\" vehicle.\\n\\n2. **Invest in EOL infrastructure**: BMW should invest in the necessary infrastructure to support EOL treatment, including dismantling facilities, recycling equipment, and waste management systems.\\n\\n3. **Develop a robust dismantling process**: BMW should establish a robust dismantling process that ensures the safe and responsible removal of vehicle parts and materials.\\n\\n4. **Implement a take-back program**: BMW should develop a take-back program that allows customers to return their vehicles to the company for recycling and disposal.\\n\\n5. **Monitor and report on EOL performance**: BMW should establish a system to monitor and report on EOL performance, including the number of vehicles recycled and disposed of,'"
      ]
     },
     "execution_count": 4,
     "metadata": {},
     "output_type": "execute_result"
    }
   ],
   "source": [
    "a.chat(\"tell me the challenge BMW has and how they should solve it?\")"
   ]
  },
  {
   "cell_type": "code",
   "execution_count": 5,
   "id": "7d153401-77b5-45f4-881c-fa38a9d5f691",
   "metadata": {},
   "outputs": [
    {
     "name": "stderr",
     "output_type": "stream",
     "text": [
      "100%|██████████████████████████████████████████| 4/4 [00:00<00:00, 19691.57it/s]\n",
      "100%|███████████████████████████████████████████| 4/4 [00:00<00:00, 1344.11it/s]\n"
     ]
    },
    {
     "data": {
      "text/plain": [
       "'The challenges faced by Airbnb and BMW are two distinct issues that require different approaches to address.\\n\\n**Airbnb:**\\n\\nAirbnb is facing a challenge related to \"Producer Responsibility,\" which involves the company\\'s responsibility to take back vehicles that were ready to be scrapped. This policy would require Airbnb to invest in a more comprehensive end-of-life (EOL) treatment of their vehicles, including dismantling, recycling, and disposal.\\n\\n**BMW:**\\n\\nBMW is facing a challenge related to \"Producer Responsibility,\" which involves the company\\'s responsibility to take back vehicles that were ready to be scrapped. This policy would require BMW to invest in a more comprehensive end-of-life (EOL) treatment of their vehicles, including dismantling, recycling, and disposal.\\n\\n**Comparison and Contrast:**\\n\\nWhile both companies are facing challenges related to EOL treatment, the nature of the challenges is different. Airbnb is facing a more complex issue related to the take-back of vehicles, whereas BMW is facing a more straightforward issue related to dismantling and recycling.\\n\\n**Recommendations:**\\n\\nTo address these challenges, Airbnb should:\\n\\n1. Investigate the pricing model to understand the factors that contribute to the different prices charged by Black hosts.\\n2. Understand the other factors that contribute to why Black hosts are charging less, such'"
      ]
     },
     "execution_count": 5,
     "metadata": {},
     "output_type": "execute_result"
    }
   ],
   "source": [
    "a.chat(\"Compare and contrast the problems airbnb & BMW are facing\")"
   ]
  },
  {
   "cell_type": "code",
   "execution_count": 6,
   "id": "610da5c5-25f0-4053-8e6a-1cd45013cc0c",
   "metadata": {},
   "outputs": [],
   "source": [
    "messages=a.model.messages"
   ]
  },
  {
   "cell_type": "code",
   "execution_count": 7,
   "id": "aeaa79a8-3663-475b-9b62-a09556b92261",
   "metadata": {},
   "outputs": [
    {
     "data": {
      "text/plain": [
       "True"
      ]
     },
     "execution_count": 7,
     "metadata": {},
     "output_type": "execute_result"
    }
   ],
   "source": [
    "a.model.clear()"
   ]
  },
  {
   "cell_type": "code",
   "execution_count": 8,
   "id": "2eade9a5-8493-44f2-833b-c3c0ff77c568",
   "metadata": {},
   "outputs": [
    {
     "data": {
      "text/plain": [
       "[{'role': 'system',\n",
       "  'content': 'You are a helpful, smart assistant good at parsing text, language, and summarizing.'},\n",
       " {'role': 'system',\n",
       "  'content': 'You will be given a prompt from the user, and some information that may be relevant. Answer the user prompt accuratley using relevant information.'},\n",
       " {'role': 'user',\n",
       "  'content': \"tell me the challenge airbnb has and how they should solve it? \\n\\n---- Potentially Relevant Information From RAG: \\n\\n\\n Question/Prompt: tell me the challenge airbnb has and how they should solve it?                Here is relevant information that may help answer the question:                originated. Was this user required to verify themself with a Facebook, Google, Passport, etc. or was it optional to use the platform? - Was this an unintentional bias in their fraud prevention algorithm? o What would you recommend Chesky do at this time? - This is an issue that is sensitive, and has a massive historical context it is important not to discount their experience - He should apologize, take accountability, explain that this obviously was not AirBnb’s intention but can understand why this situation would elicit this type of reaction   Academic Research o What should Chesky consider while addressing this new attention to the issue? - Airbnb will suggest prices based on similar properties, what factors are being used to determinewhile addressing this new attention to the issue? - Airbnb will suggest prices based on similar properties, what factors are being used to determine this? - While their pricing model may not directly take into account race, in NYC especially there is a lot of defacto segregation, you have black neighborhoods, colombian neighborhoods, russian neighborhoods, italian neighborhoods etc. All with different socio economic issues. So, while it may have not been directly race related, it could be indirectly because of how deep this issue runs.  o What would you recommend Chesky do at this time? - Investigate the pricing model - Understand the other different factors that contribute to why black hosts are charging lessAirBnB Case Analysis  Analyze the case of AirBnB presented in class by answering the questions in-line below.  Your analysis here directly translates into the class’s debrief success.  Use this structure for our case discussions:  Emails o What is the problem/issue Brian Chesky, CEO of AirBnB faces?   - The issue is that it would appear as if two users had very different experiences onboarding to the app, highlighting potential bias in the algorithm used to verify fraudulent accounts. o What should Chesky consider while addressing this issue? - Chesky first needs to understand where the problem originated. Was this user required to verify themself with a Facebook, Google, Passport, etc. or was it optional to use the platform? - Was thishigh-performance pedals. It had a similar mission to Wahoo’s—improving the cyclist experience—and fit in well with Wahoo’s product portfolio. Sufferfest was a bit different. Sufferfest was a software product that competed directly with Zwift and Tr ainerRoad, some of Wahoo’s long-term partners. At that time, Zwift announced that it would start to build its own hardware products, including indoor trainers. “We think that Sufferfest is different from everything that is out there,” Closs said. “It un iquely blends content and structured training workouts in a way that is different from anything else in the industry.” 7 Outdoor bicycles were attached to these devices enabling riders to train indoors. 8 An indoor trainer was a product that conne cted to a cyclist’s regular bi cycle to turn it into a stationary bicycle. A smart in door trainer allowed theor glasses. Some in the industry were exploring clothing items such as smart shirts, sh oes, socks, hats, or pants that could track athlete performance.30 Consumer Survey To keep pace with competitors as well as grow beyond them, Wahoo had several areas to consider. Customers wanted easy-to-use devices, innovation, and functionality. Additionally, “we want to create a more seamless experience,” Closs said. Wahoo collected produc t, website, and social media data. “We leverage data on our apps to better understand our customers and to crea te better products,” Closs said, “and do better cross-selling.” As the team considered growth, Wahoo decide d to conduct a survey to g ather data and ultimately improve its strategy, consumer targeting, marketing plans, and innovation pipeline. Closs and his team hoped to use insights from the survey to assist Wahoo in decidi ng where to expand next. Mo re specifically, objectives of the research included the following:                Sources consulted:        - airbnb.pdf- hbs.pdf                Based on the above information, here's a comprehensive answer to the original question/prompt:\"},\n",
       " {'role': 'assistant',\n",
       "  'content': 'The challenge Airbnb faces is the issue of racial bias in their pricing model, which disproportionately affects Black hosts in New York City. This bias is evident in the way Airbnb suggests prices based on similar properties, which may not accurately reflect the market value of the properties.\\n\\nTo solve this issue, Airbnb should investigate their pricing model and understand the factors that contribute to the different prices charged by Black hosts. This includes analyzing the data collected from their platform, including the types of properties, neighborhoods, and time of year that are being used, as well as the prices charged by Black hosts.\\n\\nHere are some specific steps Airbnb can take to address this issue:\\n\\n1. **Investigate their pricing model**: Airbnb should conduct a thorough analysis of their pricing model to understand how it is calculated and how it affects Black hosts. This includes examining the data collected from their platform, including the types of properties, neighborhoods, and time of year that are being used, as well as the prices charged by Black hosts.\\n\\n2. **Understand the factors contributing to the pricing disparity**: Airbnb should analyze the data collected from their platform to understand the factors that contribute to the different prices charged by Black hosts. This includes examining the types of properties, neighborhoods, and time of year that are being used, as well as'},\n",
       " {'role': 'user',\n",
       "  'content': 'tell me the challenge BMW has and how they should solve it? \\n\\n---- Potentially Relevant Information From RAG: \\n\\n\\n Question/Prompt: tell me the challenge BMW has and how they should solve it?                Here is relevant information that may help answer the question:                a \"Producer Responsibility\" policy, this regulation would obligate the manufacturers of automobiles to take back vehicles that were ready to be scrapped. The auto takeback proposal was actually the first of several initiatives that would also affect the end-of-life (EOL) treatment of such other products as household appliances and consumer electronics. But in 1989, no other industry had faced anything like this new policy. Managers at BMW and other German automakers struggled to under-stand the implications for their own company. Perhaps the first exercise was to gauge the magnitude of the economic effect. Stated another way, management wanted to know what the cost o( the new policy was likely to be, if BMW continued to do business as usual. Background A loose net work of dismantlers and shredders managed most of the recycling and disposal of German vehicles, accounting for about 95 percent of EOL volume, or roughly 2.1 million vehicles per year. Dismantling was a labor-intensivea \"Producer Responsibility\" policy, this regulation would obligate the manufacturers of automobiles to take back vehicles that were ready to be scrapped. The auto takeback proposal was actually the first of several initiatives that would also affect the end-of-life (EOL) treatment of such other products as household appliances and consumer electronics. But in 1989, no other industry had faced anything like this new policy. Managers at BMW and other German automakers struggled to under-stand the implications for their own company. Perhaps the first exercise was to gauge the magnitude of the economic effect. Stated another way, management wanted to know what the cost o( the new policy was likely to be, if BMW continued to do business as usual. Background A loose net work of dismantlers and shredders managed most of the recycling and disposal of German vehicles, accounting for about 95 percent of EOL volume, or roughly 2.1 million vehicles per year. Dismantling was a labor-intensiveand shredders managed most of the recycling and disposal of German vehicles, accounting for about 95 percent of EOL volume, or roughly 2.1 million vehicles per year. Dismantling was a labor-intensive process that removed auto parts, fluids, and materials that could be THE BMW COMPANY 451 reasonable assumptions about relevant cost factors, she was able to optimize the production plan, and she deter-mined that it should be possible to meet the 25 percent profitability target. Nevertheless, there seemed to be several factors in it that were subject to change-things that had come up in her various conversations, such as maintenance, warehousing, and the possibility of modifying the contract. She expected that Mr. Cox would quiz her about all of these factors, and she knew it would be important for her to be prepared for his questions.and shredders managed most of the recycling and disposal of German vehicles, accounting for about 95 percent of EOL volume, or roughly 2.1 million vehicles per year. Dismantling was a labor-intensive process that removed auto parts, fluids, and materials that could be THE BMW COMPANY 451 reasonable assumptions about relevant cost factors, she was able to optimize the production plan, and she deter-mined that it should be possible to meet the 25 percent profitability target. Nevertheless, there seemed to be several factors in it that were subject to change-things that had come up in her various conversations, such as maintenance, warehousing, and the possibility of modifying the contract. She expected that Mr. Cox would quiz her about all of these factors, and she knew it would be important for her to be prepared for his questions.two process trains. The machine depreciation charges on the two process trains were broken out separately, as deter-mined at the time the machinery was purchased. For exam-ple, the General process train originally cost $500,000 ten years ago and had an expected life of five years, or about 10,000 hours, hence its depreciation rate of $50 per hour. The Analysis Meredith was able to consolidate all of the information she collected into a spreadsheet. Making what she fell were THE BMW COMPANY Late in the summer of 1989, the government of Germany was seriously considering an innovative policy affecting the treatment of scrapped vehicles. This policy would make auto manufacturers responsible for recycling and disposal of their vehicles at the end of their useful lives. Sometimes referred to as a \"Producer Responsibility\" policy, this regulation would obligate the manufacturers of automobiles to take back vehicles that were ready to be scrapped. The auto takeback proposal was actually the                Sources consulted:        - BMW_Case.pdf                Based on the above information, here\\'s a comprehensive answer to the original question/prompt:'},\n",
       " {'role': 'assistant',\n",
       "  'content': 'The challenge BMW faces is the implementation of a \"Producer Responsibility\" policy, which would obligate the manufacturers of automobiles to take back vehicles that were ready to be scrapped. This policy would require BMW to invest in a more comprehensive end-of-life (EOL) treatment of their vehicles, including dismantling, recycling, and disposal.\\n\\nTo solve this issue, BMW should consider the following steps:\\n\\n1. **Develop a clear policy framework**: BMW should establish a clear policy framework that outlines the responsibilities of manufacturers, the processes for dismantling and recycling vehicles, and the criteria for determining what constitutes a \"scrapped\" vehicle.\\n\\n2. **Invest in EOL infrastructure**: BMW should invest in the necessary infrastructure to support EOL treatment, including dismantling facilities, recycling equipment, and waste management systems.\\n\\n3. **Develop a robust dismantling process**: BMW should establish a robust dismantling process that ensures the safe and responsible removal of vehicle parts and materials.\\n\\n4. **Implement a take-back program**: BMW should develop a take-back program that allows customers to return their vehicles to the company for recycling and disposal.\\n\\n5. **Monitor and report on EOL performance**: BMW should establish a system to monitor and report on EOL performance, including the number of vehicles recycled and disposed of,'},\n",
       " {'role': 'user',\n",
       "  'content': \"Compare and contrast the problems airbnb & BMW are facing \\n\\n---- Potentially Relevant Information From RAG: \\n\\n\\n Question/Prompt: Compare and contrast the problems airbnb & BMW are facing                Here is relevant information that may help answer the question:                while addressing this new attention to the issue? - Airbnb will suggest prices based on similar properties, what factors are being used to determine this? - While their pricing model may not directly take into account race, in NYC especially there is a lot of defacto segregation, you have black neighborhoods, colombian neighborhoods, russian neighborhoods, italian neighborhoods etc. All with different socio economic issues. So, while it may have not been directly race related, it could be indirectly because of how deep this issue runs.  o What would you recommend Chesky do at this time? - Investigate the pricing model - Understand the other different factors that contribute to why black hosts are charging lesswhile addressing this new attention to the issue? - Airbnb will suggest prices based on similar properties, what factors are being used to determine this? - While their pricing model may not directly take into account race, in NYC especially there is a lot of defacto segregation, you have black neighborhoods, colombian neighborhoods, russian neighborhoods, italian neighborhoods etc. All with different socio economic issues. So, while it may have not been directly race related, it could be indirectly because of how deep this issue runs.  o What would you recommend Chesky do at this time? - Investigate the pricing model - Understand the other different factors that contribute to why black hosts are charging lesswhile addressing this new attention to the issue? - Airbnb will suggest prices based on similar properties, what factors are being used to determine this? - While their pricing model may not directly take into account race, in NYC especially there is a lot of defacto segregation, you have black neighborhoods, colombian neighborhoods, russian neighborhoods, italian neighborhoods etc. All with different socio economic issues. So, while it may have not been directly race related, it could be indirectly because of how deep this issue runs.  o What would you recommend Chesky do at this time? - Investigate the pricing model - Understand the other different factors that contribute to why black hosts are charging lessAirBnB Case Analysis  Analyze the case of AirBnB presented in class by answering the questions in-line below.  Your analysis here directly translates into the class’s debrief success.  Use this structure for our case discussions:  Emails o What is the problem/issue Brian Chesky, CEO of AirBnB faces?   - The issue is that it would appear as if two users had very different experiences onboarding to the app, highlighting potential bias in the algorithm used to verify fraudulent accounts. o What should Chesky consider while addressing this issue? - Chesky first needs to understand where the problem originated. Was this user required to verify themself with a Facebook, Google, Passport, etc. or was it optional to use the platform? - Was thisAirBnB Case Analysis  Analyze the case of AirBnB presented in class by answering the questions in-line below.  Your analysis here directly translates into the class’s debrief success.  Use this structure for our case discussions:  Emails o What is the problem/issue Brian Chesky, CEO of AirBnB faces?   - The issue is that it would appear as if two users had very different experiences onboarding to the app, highlighting potential bias in the algorithm used to verify fraudulent accounts. o What should Chesky consider while addressing this issue? - Chesky first needs to understand where the problem originated. Was this user required to verify themself with a Facebook, Google, Passport, etc. or was it optional to use the platform? - Was this                Sources consulted:        - airbnb.pdf                Based on the above information, here's a comprehensive answer to the original question/prompt:\"},\n",
       " {'role': 'assistant',\n",
       "  'content': 'The challenges faced by Airbnb and BMW are two distinct issues that require different approaches to address.\\n\\n**Airbnb:**\\n\\nAirbnb is facing a challenge related to \"Producer Responsibility,\" which involves the company\\'s responsibility to take back vehicles that were ready to be scrapped. This policy would require Airbnb to invest in a more comprehensive end-of-life (EOL) treatment of their vehicles, including dismantling, recycling, and disposal.\\n\\n**BMW:**\\n\\nBMW is facing a challenge related to \"Producer Responsibility,\" which involves the company\\'s responsibility to take back vehicles that were ready to be scrapped. This policy would require BMW to invest in a more comprehensive end-of-life (EOL) treatment of their vehicles, including dismantling, recycling, and disposal.\\n\\n**Comparison and Contrast:**\\n\\nWhile both companies are facing challenges related to EOL treatment, the nature of the challenges is different. Airbnb is facing a more complex issue related to the take-back of vehicles, whereas BMW is facing a more straightforward issue related to dismantling and recycling.\\n\\n**Recommendations:**\\n\\nTo address these challenges, Airbnb should:\\n\\n1. Investigate the pricing model to understand the factors that contribute to the different prices charged by Black hosts.\\n2. Understand the other factors that contribute to why Black hosts are charging less, such'}]"
      ]
     },
     "execution_count": 8,
     "metadata": {},
     "output_type": "execute_result"
    }
   ],
   "source": [
    "messages"
   ]
  },
  {
   "cell_type": "code",
   "execution_count": 9,
   "id": "59bee4f0-6001-434a-8c15-f665c7a059c1",
   "metadata": {},
   "outputs": [
    {
     "data": {
      "text/plain": [
       "[]"
      ]
     },
     "execution_count": 9,
     "metadata": {},
     "output_type": "execute_result"
    }
   ],
   "source": [
    "a.model.messages"
   ]
  },
  {
   "cell_type": "code",
   "execution_count": null,
   "id": "113321b1-87bb-4ca1-a883-bacafc13779b",
   "metadata": {},
   "outputs": [],
   "source": []
  }
 ],
 "metadata": {
  "kernelspec": {
   "display_name": "Python 3 (ipykernel)",
   "language": "python",
   "name": "python3"
  },
  "language_info": {
   "codemirror_mode": {
    "name": "ipython",
    "version": 3
   },
   "file_extension": ".py",
   "mimetype": "text/x-python",
   "name": "python",
   "nbconvert_exporter": "python",
   "pygments_lexer": "ipython3",
   "version": "3.13.1"
  }
 },
 "nbformat": 4,
 "nbformat_minor": 5
}
