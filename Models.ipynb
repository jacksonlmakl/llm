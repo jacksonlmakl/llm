{
 "cells": [
  {
   "cell_type": "code",
   "execution_count": null,
   "id": "48747666-6b6d-47eb-9b93-e38659cf6045",
   "metadata": {},
   "outputs": [],
   "source": [
    "from agent import Agent\n",
    "import logging\n",
    "logging.disable(logging.CRITICAL)"
   ]
  },
  {
   "cell_type": "code",
   "execution_count": null,
   "id": "9ad0a7b4-e6bd-43ed-b9a9-9305bac75fc8",
   "metadata": {},
   "outputs": [],
   "source": [
    "t=\"****\"\n",
    "a=Agent(t)"
   ]
  },
  {
   "cell_type": "code",
   "execution_count": null,
   "id": "27866ab1-4228-418c-ac84-3a8e3d2339ea",
   "metadata": {},
   "outputs": [],
   "source": [
    "p = \"tell me the challenge airbnb has and how they should solve it?\"\n",
    "r=a.chat(p)"
   ]
  },
  {
   "cell_type": "code",
   "execution_count": null,
   "id": "c36104ad-46ed-400e-a147-07d187a01db7",
   "metadata": {},
   "outputs": [],
   "source": [
    "print(r)"
   ]
  },
  {
   "cell_type": "code",
   "execution_count": null,
   "id": "75d205b2-f58c-48ed-a320-9d120d2243b4",
   "metadata": {},
   "outputs": [],
   "source": [
    "a.model.messages"
   ]
  },
  {
   "cell_type": "code",
   "execution_count": null,
   "id": "5139ba75-45c9-4eda-b732-f263c110648c",
   "metadata": {},
   "outputs": [],
   "source": []
  },
  {
   "cell_type": "code",
   "execution_count": null,
   "id": "a259ef52-7f05-4d89-99f2-55402a8d1bc6",
   "metadata": {},
   "outputs": [],
   "source": []
  },
  {
   "cell_type": "code",
   "execution_count": null,
   "id": "2a2fd715-1678-4123-8341-4226e6690c87",
   "metadata": {},
   "outputs": [],
   "source": []
  },
  {
   "cell_type": "code",
   "execution_count": null,
   "id": "93df28aa-1158-47f5-b887-b2e9fcf68592",
   "metadata": {},
   "outputs": [],
   "source": []
  },
  {
   "cell_type": "code",
   "execution_count": null,
   "id": "5cc71a93-a21c-460d-8b93-3848dba1f67c",
   "metadata": {},
   "outputs": [],
   "source": []
  },
  {
   "cell_type": "code",
   "execution_count": null,
   "id": "b5156101-3b5d-49a9-8fae-858dbfa975c8",
   "metadata": {},
   "outputs": [],
   "source": []
  },
  {
   "cell_type": "code",
   "execution_count": null,
   "id": "66513669-2dd7-4079-a100-3d6748eea837",
   "metadata": {},
   "outputs": [],
   "source": []
  },
  {
   "cell_type": "code",
   "execution_count": null,
   "id": "eb83369f-6545-4a19-afdd-59e2b0cfcb01",
   "metadata": {},
   "outputs": [],
   "source": []
  }
 ],
 "metadata": {
  "kernelspec": {
   "display_name": "Python 3 (ipykernel)",
   "language": "python",
   "name": "python3"
  },
  "language_info": {
   "codemirror_mode": {
    "name": "ipython",
    "version": 3
   },
   "file_extension": ".py",
   "mimetype": "text/x-python",
   "name": "python",
   "nbconvert_exporter": "python",
   "pygments_lexer": "ipython3",
   "version": "3.13.1"
  }
 },
 "nbformat": 4,
 "nbformat_minor": 5
}
