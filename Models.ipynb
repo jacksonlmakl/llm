{
 "cells": [
  {
   "cell_type": "code",
   "execution_count": 1,
   "id": "eb83369f-6545-4a19-afdd-59e2b0cfcb01",
   "metadata": {},
   "outputs": [
    {
     "name": "stderr",
     "output_type": "stream",
     "text": [
      "100%|█████████████████████████████████████████████| 5/5 [00:00<00:00,  6.23it/s]\n",
      "100%|███████████████████████████████████████████| 4/4 [00:00<00:00, 1368.90it/s]\n",
      "100%|█████████████████████████████████████████████| 5/5 [00:00<00:00,  6.29it/s]\n",
      "100%|███████████████████████████████████████████| 4/4 [00:00<00:00, 1416.04it/s]\n",
      "100%|█████████████████████████████████████████████| 5/5 [00:00<00:00,  6.27it/s]\n",
      "100%|███████████████████████████████████████████| 4/4 [00:00<00:00, 1436.77it/s]\n",
      "100%|█████████████████████████████████████████████| 5/5 [00:00<00:00,  7.08it/s]\n",
      "100%|███████████████████████████████████████████| 4/4 [00:00<00:00, 1291.95it/s]\n"
     ]
    },
    {
     "data": {
      "text/plain": [
       "\"**Lessons from the Airbnb and BMW Cases**\\n\\nThe Airbnb and BMW cases present valuable lessons for companies facing similar issues. Here are some key takeaways:\\n\\n1. **Understanding the root cause is crucial**: In both cases, it was essential to understand where the problem originated. Airbnb needed to investigate why black hosts were charging less, while BMW needed to understand the factors contributing to the economic effect of their new policy. This requires a thorough analysis of the company's internal processes and external factors.\\n\\n2. **Empathy and accountability are essential**: Apologizing and taking accountability for the issue is vital. Airbnb should acknowledge the potential bias in their pricing model and explain why this situation arose. This demonstrates a commitment to understanding and addressing the issue, rather than simply ignoring or downplaying it.\\n\\n3. **Proactive approach is necessary**: Both companies should have taken a proactive approach to addressing the issue. Airbnb should have investigated the pricing model to understand the factors contributing to the disparity in pricing between black and white hosts. BMW should have engaged in a more thorough analysis of their new policy, including its economic effects.\\n\\n4. **No single solution is sufficient**: The Airbnb and BMW cases demonstrate that no single solution can address the root cause of the issue. Companies must consider multiple factors, including\""
      ]
     },
     "execution_count": 1,
     "metadata": {},
     "output_type": "execute_result"
    }
   ],
   "source": [
    "from agent import Agent\n",
    "t=\"******************\"\n",
    "a=Agent(t)\n",
    "\n",
    "a.chat(\"tell me the challenge airbnb has and how they should solve it?\")\n",
    "a.chat(\"tell me the challenge BMW has and how they should solve it?\")\n",
    "a.chat(\"Compare and contrast the problems airbnb & BMW are facing\")\n",
    "\n",
    "a.summarize()\n",
    "a.chat(\"What lessons can we take from the airbnb and bmw cases?\")"
   ]
  },
  {
   "cell_type": "code",
   "execution_count": 2,
   "id": "32ff83e3-8a4f-4218-a028-12cac19fe475",
   "metadata": {},
   "outputs": [
    {
     "data": {
      "text/plain": [
       "[{'role': 'system',\n",
       "  'content': \"You are a helpful assistant very good at language, parsing, and understanding text, here is a summary of your previous conversation to reference \\n\\n----- \\n\\nHere is a detailed summary of our conversation:\\n\\n**Introduction**\\n\\n* You asked me to tell you the challenge that Airbnb has and how they should solve it.\\n* I provided a prompt and some relevant information about Airbnb's issues, including the issue of racial bias in its pricing model.\\n\\n**BMW Case Analysis**\\n\\n* You asked me to analyze the case of Airbnb presented in class and answer the questions in-line below.\\n* I provided a detailed analysis of the case, including the problem of racial bias in Airbnb's pricing model, the company's history and challenges, and the potential solutions.\\n\\n**Comparison of Airbnb and BMW Issues**\\n\\n* You asked me to compare and contrast the problems that Airbnb and BMW are facing.\\n* I provided a summary of the key differences and similarities between the two companies, including their respective industries, regulatory environments, business models, and public perceptions.\\n\\n**Recommendations for Airbnb**\\n\\n* You asked me to recommend what Airbnb should do at this time to address the issues.\\n* I provided a set of recommendations, including:\\n + Investigating the pricing model to understand the factors that contribute to the disparity in pricing between black and white hosts.\\n + Understanding the other factors that contribute to the disparity in pricing, including the role of the algorithm and user behavior.\\n + Taking accountability and\"},\n",
       " {'role': 'user',\n",
       "  'content': 'What lessons can we take from the airbnb and bmw cases? \\n\\n---- Potentially Relevant Information From RAG: \\n\\n\\n Question/Prompt: What lessons can we take from the airbnb and bmw cases?                Here is relevant information that may help answer the question:                AirBnB Case Analysis  Analyze the case of AirBnB presented in class by answering the questions in-line below.  Your analysis here directly translates into the class’s debrief success.  Use this structure for our case discussions:  Emails o What is the problem/issue Brian Chesky, CEO of AirBnB faces?   - The issue is that it would appear as if two users had very different experiences onboarding to the app, highlighting potential bias in the algorithm used to verify fraudulent accounts. o What should Chesky consider while addressing this issue? - Chesky first needs to understand where the problem originated. Was this user required to verify themself with a Facebook, Google, Passport, etc. or was it optional to use the platform? - Was thiswhile addressing this new attention to the issue? - Airbnb will suggest prices based on similar properties, what factors are being used to determine this? - While their pricing model may not directly take into account race, in NYC especially there is a lot of defacto segregation, you have black neighborhoods, colombian neighborhoods, russian neighborhoods, italian neighborhoods etc. All with different socio economic issues. So, while it may have not been directly race related, it could be indirectly because of how deep this issue runs.  o What would you recommend Chesky do at this time? - Investigate the pricing model - Understand the other different factors that contribute to why black hosts are charging lessoriginated. Was this user required to verify themself with a Facebook, Google, Passport, etc. or was it optional to use the platform? - Was this an unintentional bias in their fraud prevention algorithm? o What would you recommend Chesky do at this time? - This is an issue that is sensitive, and has a massive historical context it is important not to discount their experience - He should apologize, take accountability, explain that this obviously was not AirBnb’s intention but can understand why this situation would elicit this type of reaction   Academic Research o What should Chesky consider while addressing this new attention to the issue? - Airbnb will suggest prices based on similar properties, what factors are being used to determinea \"Producer Responsibility\" policy, this regulation would obligate the manufacturers of automobiles to take back vehicles that were ready to be scrapped. The auto takeback proposal was actually the first of several initiatives that would also affect the end-of-life (EOL) treatment of such other products as household appliances and consumer electronics. But in 1989, no other industry had faced anything like this new policy. Managers at BMW and other German automakers struggled to under-stand the implications for their own company. Perhaps the first exercise was to gauge the magnitude of the economic effect. Stated another way, management wanted to know what the cost o( the new policy was likely to be, if BMW continued to do business as usual. Background A loose net work of dismantlers and shredders managed most of the recycling and disposal of German vehicles, accounting for about 95 percent of EOL volume, or roughly 2.1 million vehicles per year. Dismantling was a labor-intensiveand shredders managed most of the recycling and disposal of German vehicles, accounting for about 95 percent of EOL volume, or roughly 2.1 million vehicles per year. Dismantling was a labor-intensive process that removed auto parts, fluids, and materials that could be THE BMW COMPANY 451 reasonable assumptions about relevant cost factors, she was able to optimize the production plan, and she deter-mined that it should be possible to meet the 25 percent profitability target. Nevertheless, there seemed to be several factors in it that were subject to change-things that had come up in her various conversations, such as maintenance, warehousing, and the possibility of modifying the contract. She expected that Mr. Cox would quiz her about all of these factors, and she knew it would be important for her to be prepared for his questions.                Sources consulted:        - airbnb.pdf- BMW_Case.pdf                Based on the above information, here\\'s a comprehensive answer to the original question/prompt:'},\n",
       " {'role': 'assistant',\n",
       "  'content': \"**Lessons from the Airbnb and BMW Cases**\\n\\nThe Airbnb and BMW cases present valuable lessons for companies facing similar issues. Here are some key takeaways:\\n\\n1. **Understanding the root cause is crucial**: In both cases, it was essential to understand where the problem originated. Airbnb needed to investigate why black hosts were charging less, while BMW needed to understand the factors contributing to the economic effect of their new policy. This requires a thorough analysis of the company's internal processes and external factors.\\n\\n2. **Empathy and accountability are essential**: Apologizing and taking accountability for the issue is vital. Airbnb should acknowledge the potential bias in their pricing model and explain why this situation arose. This demonstrates a commitment to understanding and addressing the issue, rather than simply ignoring or downplaying it.\\n\\n3. **Proactive approach is necessary**: Both companies should have taken a proactive approach to addressing the issue. Airbnb should have investigated the pricing model to understand the factors contributing to the disparity in pricing between black and white hosts. BMW should have engaged in a more thorough analysis of their new policy, including its economic effects.\\n\\n4. **No single solution is sufficient**: The Airbnb and BMW cases demonstrate that no single solution can address the root cause of the issue. Companies must consider multiple factors, including\"}]"
      ]
     },
     "execution_count": 2,
     "metadata": {},
     "output_type": "execute_result"
    }
   ],
   "source": [
    "a.model.messages"
   ]
  },
  {
   "cell_type": "code",
   "execution_count": null,
   "id": "9b695b2b-54fd-46f2-96ea-3c7cdf2f9bb4",
   "metadata": {},
   "outputs": [],
   "source": [
    "from client import AgentApiClient\n",
    "import json\n",
    "# Create an instance of the client\n",
    "client = AgentApiClient()\n",
    "\n",
    "# Start a new session (optional, as the server will create one if needed)\n",
    "client.new_session()\n",
    "print(f\"Started new session with user ID: {client.get_user_id()}\")\n",
    "\n",
    "# Example conversation flow similar to your original code\n",
    "responses = []\n",
    "\n",
    "# Send messages and get responses\n",
    "print(\"\\n--- Starting conversation ---\")\n",
    "\n",
    "response = client.chat(\"Tell me the challenge Airbnb has and how they should solve it?\")\n",
    "print(\"\\nQuestion: Tell me the challenge Airbnb has and how they should solve it?\")\n",
    "print(f\"Response: {response}\")\n",
    "responses.append(response)\n",
    "\n",
    "response = client.chat(\"Tell me the challenge BMW has and how they should solve it?\")\n",
    "print(\"\\nQuestion: Tell me the challenge BMW has and how they should solve it?\")\n",
    "print(f\"Response: {response}\")\n",
    "responses.append(response)\n",
    "\n",
    "response = client.chat(\"Compare and contrast the problems Airbnb & BMW are facing\")\n",
    "print(\"\\nQuestion: Compare and contrast the problems Airbnb & BMW are facing\")\n",
    "print(f\"Response: {response}\")\n",
    "responses.append(response)\n",
    "\n",
    "# Continue the conversation\n",
    "response = client.chat(\"What lessons can we take from the Airbnb and BMW cases?\")\n",
    "print(\"\\nQuestion: What lessons can we take from the Airbnb and BMW cases?\")\n",
    "print(f\"Response: {response}\")\n",
    "responses.append(response)\n",
    "\n",
    "# Get the full message history\n",
    "print(\"\\n--- Full Message History ---\")\n",
    "messages = client.get_history()\n",
    "print(json.dumps(messages, indent=2))\n"
   ]
  }
 ],
 "metadata": {
  "kernelspec": {
   "display_name": "Python 3 (ipykernel)",
   "language": "python",
   "name": "python3"
  },
  "language_info": {
   "codemirror_mode": {
    "name": "ipython",
    "version": 3
   },
   "file_extension": ".py",
   "mimetype": "text/x-python",
   "name": "python",
   "nbconvert_exporter": "python",
   "pygments_lexer": "ipython3",
   "version": "3.13.1"
  }
 },
 "nbformat": 4,
 "nbformat_minor": 5
}
