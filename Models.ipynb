{
 "cells": [
  {
   "cell_type": "code",
   "execution_count": null,
   "id": "eb83369f-6545-4a19-afdd-59e2b0cfcb01",
   "metadata": {},
   "outputs": [
    {
     "name": "stderr",
     "output_type": "stream",
     "text": [
      "100%|█████████████████████████████████████████████| 4/4 [00:00<00:00,  4.68it/s]\n",
      "100%|███████████████████████████████████████████| 4/4 [00:00<00:00, 1302.88it/s]\n",
      "100%|█████████████████████████████████████████████| 4/4 [00:00<00:00,  4.99it/s]\n",
      "100%|███████████████████████████████████████████| 4/4 [00:00<00:00, 1420.96it/s]\n"
     ]
    }
   ],
   "source": [
    "from agent import Agent\n",
    "t=\"***\"\n",
    "a=Agent(t)\n",
    "a.chat(\"tell me the challenge airbnb has and how they should solve it?\")\n",
    "a.chat(\"tell me the challenge BMW has and how they should solve it?\")\n",
    "a.chat(\"Compare and contrast the problems airbnb & BMW are facing\")\n",
    "messages=a.model.messages\n",
    "a.model.clear()"
   ]
  },
  {
   "cell_type": "code",
   "execution_count": null,
   "id": "2eade9a5-8493-44f2-833b-c3c0ff77c568",
   "metadata": {},
   "outputs": [],
   "source": []
  }
 ],
 "metadata": {
  "kernelspec": {
   "display_name": "Python 3 (ipykernel)",
   "language": "python",
   "name": "python3"
  },
  "language_info": {
   "codemirror_mode": {
    "name": "ipython",
    "version": 3
   },
   "file_extension": ".py",
   "mimetype": "text/x-python",
   "name": "python",
   "nbconvert_exporter": "python",
   "pygments_lexer": "ipython3",
   "version": "3.13.1"
  }
 },
 "nbformat": 4,
 "nbformat_minor": 5
}
